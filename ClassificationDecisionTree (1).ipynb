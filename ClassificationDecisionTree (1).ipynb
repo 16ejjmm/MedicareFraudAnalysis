{
  "nbformat": 4,
  "nbformat_minor": 0,
  "metadata": {
    "colab": {
      "name": "ClassificationDecisionTree.ipynb",
      "provenance": [],
      "collapsed_sections": []
    },
    "kernelspec": {
      "name": "python3",
      "display_name": "Python 3"
    },
    "language_info": {
      "name": "python"
    }
  },
  "cells": [
    {
      "cell_type": "code",
      "source": [
        "#Imports\n",
        "import numpy as np\n",
        "import pandas as pd\n",
        "import matplotlib.pyplot as plt\n",
        "import seaborn as sns\n",
        "from sklearn.metrics import confusion_matrix\n",
        "from sklearn.metrics import roc_auc_score\n",
        "from sklearn.tree import DecisionTreeClassifier\n",
        "from sklearn.metrics import f1_score\n",
        "from sklearn.metrics import recall_score\n",
        "from sklearn.metrics import accuracy_score\n",
        "from sklearn.metrics import precision_score\n",
        "from sklearn.metrics import roc_auc_score\n",
        "from sklearn.metrics import roc_curve\n",
        "from sklearn.model_selection import train_test_split\n",
        "from imblearn.over_sampling import SMOTE \n",
        "from sklearn.model_selection import GridSearchCV\n",
        "from sklearn import decomposition, datasets\n",
        "from sklearn import tree\n",
        "from sklearn.pipeline import Pipeline\n",
        "from sklearn.preprocessing import StandardScaler\n",
        "from sklearn.metrics import mean_squared_error as MSE\n",
        "from sklearn.model_selection import cross_val_score\n",
        "from sklearn.ensemble import BaggingClassifier\n",
        "from sklearn.metrics import classification_report"
      ],
      "metadata": {
        "id": "_ZC8gdDWH_mG"
      },
      "execution_count": null,
      "outputs": []
    },
    {
      "cell_type": "code",
      "execution_count": null,
      "metadata": {
        "colab": {
          "base_uri": "https://localhost:8080/",
          "height": 317
        },
        "id": "rMX3PFhBFMlG",
        "outputId": "e9d0d4f8-2aa6-4dbb-a240-ff407abea6c8"
      },
      "outputs": [
        {
          "output_type": "execute_result",
          "data": {
            "text/plain": [
              "   Unnamed: 0  InscClaimAmtReimbursed  DeductibleAmtPaid  \\\n",
              "0           0                  104640             5340.0   \n",
              "1           1                  605670            66286.0   \n",
              "2           2                   52170              310.0   \n",
              "3           3                  280910             3700.0   \n",
              "4           4                   33710             3264.0   \n",
              "\n",
              "   Hospitalization_Duration  Claim_Period  ExtraClaimDays  \\\n",
              "0                      30.0            61             0.0   \n",
              "1                     382.0           617             0.0   \n",
              "2                       0.0           362             0.0   \n",
              "3                       0.0          2433             0.0   \n",
              "4                      19.0           141             0.0   \n",
              "\n",
              "   Inpatient_or_Outpatient  RenalDiseaseIndicator  NoOfMonths_PartACov  \\\n",
              "0                        5                      8                  300   \n",
              "1                       62                     29                 1560   \n",
              "2                        0                     23                 1768   \n",
              "3                        0                    259                13872   \n",
              "4                        3                     11                  852   \n",
              "\n",
              "   NoOfMonths_PartBCov  ...  Provider_PRV57754  Provider_PRV57755  \\\n",
              "0                  300  ...                  0                  0   \n",
              "1                 1567  ...                  0                  0   \n",
              "2                 1782  ...                  0                  0   \n",
              "3                13910  ...                  0                  0   \n",
              "4                  852  ...                  0                  0   \n",
              "\n",
              "   Provider_PRV57756  Provider_PRV57757  Provider_PRV57758  Provider_PRV57759  \\\n",
              "0                  0                  0                  0                  0   \n",
              "1                  0                  0                  0                  0   \n",
              "2                  0                  0                  0                  0   \n",
              "3                  0                  0                  0                  0   \n",
              "4                  0                  0                  0                  0   \n",
              "\n",
              "   Provider_PRV57760  Provider_PRV57761  Provider_PRV57762  Provider_PRV57763  \n",
              "0                  0                  0                  0                  0  \n",
              "1                  0                  0                  0                  0  \n",
              "2                  0                  0                  0                  0  \n",
              "3                  0                  0                  0                  0  \n",
              "4                  0                  0                  0                  0  \n",
              "\n",
              "[5 rows x 5656 columns]"
            ],
            "text/html": [
              "\n",
              "  <div id=\"df-beb8420e-a00d-44cf-85c8-e71e0e64df1f\">\n",
              "    <div class=\"colab-df-container\">\n",
              "      <div>\n",
              "<style scoped>\n",
              "    .dataframe tbody tr th:only-of-type {\n",
              "        vertical-align: middle;\n",
              "    }\n",
              "\n",
              "    .dataframe tbody tr th {\n",
              "        vertical-align: top;\n",
              "    }\n",
              "\n",
              "    .dataframe thead th {\n",
              "        text-align: right;\n",
              "    }\n",
              "</style>\n",
              "<table border=\"1\" class=\"dataframe\">\n",
              "  <thead>\n",
              "    <tr style=\"text-align: right;\">\n",
              "      <th></th>\n",
              "      <th>Unnamed: 0</th>\n",
              "      <th>InscClaimAmtReimbursed</th>\n",
              "      <th>DeductibleAmtPaid</th>\n",
              "      <th>Hospitalization_Duration</th>\n",
              "      <th>Claim_Period</th>\n",
              "      <th>ExtraClaimDays</th>\n",
              "      <th>Inpatient_or_Outpatient</th>\n",
              "      <th>RenalDiseaseIndicator</th>\n",
              "      <th>NoOfMonths_PartACov</th>\n",
              "      <th>NoOfMonths_PartBCov</th>\n",
              "      <th>...</th>\n",
              "      <th>Provider_PRV57754</th>\n",
              "      <th>Provider_PRV57755</th>\n",
              "      <th>Provider_PRV57756</th>\n",
              "      <th>Provider_PRV57757</th>\n",
              "      <th>Provider_PRV57758</th>\n",
              "      <th>Provider_PRV57759</th>\n",
              "      <th>Provider_PRV57760</th>\n",
              "      <th>Provider_PRV57761</th>\n",
              "      <th>Provider_PRV57762</th>\n",
              "      <th>Provider_PRV57763</th>\n",
              "    </tr>\n",
              "  </thead>\n",
              "  <tbody>\n",
              "    <tr>\n",
              "      <th>0</th>\n",
              "      <td>0</td>\n",
              "      <td>104640</td>\n",
              "      <td>5340.0</td>\n",
              "      <td>30.0</td>\n",
              "      <td>61</td>\n",
              "      <td>0.0</td>\n",
              "      <td>5</td>\n",
              "      <td>8</td>\n",
              "      <td>300</td>\n",
              "      <td>300</td>\n",
              "      <td>...</td>\n",
              "      <td>0</td>\n",
              "      <td>0</td>\n",
              "      <td>0</td>\n",
              "      <td>0</td>\n",
              "      <td>0</td>\n",
              "      <td>0</td>\n",
              "      <td>0</td>\n",
              "      <td>0</td>\n",
              "      <td>0</td>\n",
              "      <td>0</td>\n",
              "    </tr>\n",
              "    <tr>\n",
              "      <th>1</th>\n",
              "      <td>1</td>\n",
              "      <td>605670</td>\n",
              "      <td>66286.0</td>\n",
              "      <td>382.0</td>\n",
              "      <td>617</td>\n",
              "      <td>0.0</td>\n",
              "      <td>62</td>\n",
              "      <td>29</td>\n",
              "      <td>1560</td>\n",
              "      <td>1567</td>\n",
              "      <td>...</td>\n",
              "      <td>0</td>\n",
              "      <td>0</td>\n",
              "      <td>0</td>\n",
              "      <td>0</td>\n",
              "      <td>0</td>\n",
              "      <td>0</td>\n",
              "      <td>0</td>\n",
              "      <td>0</td>\n",
              "      <td>0</td>\n",
              "      <td>0</td>\n",
              "    </tr>\n",
              "    <tr>\n",
              "      <th>2</th>\n",
              "      <td>2</td>\n",
              "      <td>52170</td>\n",
              "      <td>310.0</td>\n",
              "      <td>0.0</td>\n",
              "      <td>362</td>\n",
              "      <td>0.0</td>\n",
              "      <td>0</td>\n",
              "      <td>23</td>\n",
              "      <td>1768</td>\n",
              "      <td>1782</td>\n",
              "      <td>...</td>\n",
              "      <td>0</td>\n",
              "      <td>0</td>\n",
              "      <td>0</td>\n",
              "      <td>0</td>\n",
              "      <td>0</td>\n",
              "      <td>0</td>\n",
              "      <td>0</td>\n",
              "      <td>0</td>\n",
              "      <td>0</td>\n",
              "      <td>0</td>\n",
              "    </tr>\n",
              "    <tr>\n",
              "      <th>3</th>\n",
              "      <td>3</td>\n",
              "      <td>280910</td>\n",
              "      <td>3700.0</td>\n",
              "      <td>0.0</td>\n",
              "      <td>2433</td>\n",
              "      <td>0.0</td>\n",
              "      <td>0</td>\n",
              "      <td>259</td>\n",
              "      <td>13872</td>\n",
              "      <td>13910</td>\n",
              "      <td>...</td>\n",
              "      <td>0</td>\n",
              "      <td>0</td>\n",
              "      <td>0</td>\n",
              "      <td>0</td>\n",
              "      <td>0</td>\n",
              "      <td>0</td>\n",
              "      <td>0</td>\n",
              "      <td>0</td>\n",
              "      <td>0</td>\n",
              "      <td>0</td>\n",
              "    </tr>\n",
              "    <tr>\n",
              "      <th>4</th>\n",
              "      <td>4</td>\n",
              "      <td>33710</td>\n",
              "      <td>3264.0</td>\n",
              "      <td>19.0</td>\n",
              "      <td>141</td>\n",
              "      <td>0.0</td>\n",
              "      <td>3</td>\n",
              "      <td>11</td>\n",
              "      <td>852</td>\n",
              "      <td>852</td>\n",
              "      <td>...</td>\n",
              "      <td>0</td>\n",
              "      <td>0</td>\n",
              "      <td>0</td>\n",
              "      <td>0</td>\n",
              "      <td>0</td>\n",
              "      <td>0</td>\n",
              "      <td>0</td>\n",
              "      <td>0</td>\n",
              "      <td>0</td>\n",
              "      <td>0</td>\n",
              "    </tr>\n",
              "  </tbody>\n",
              "</table>\n",
              "<p>5 rows × 5656 columns</p>\n",
              "</div>\n",
              "      <button class=\"colab-df-convert\" onclick=\"convertToInteractive('df-beb8420e-a00d-44cf-85c8-e71e0e64df1f')\"\n",
              "              title=\"Convert this dataframe to an interactive table.\"\n",
              "              style=\"display:none;\">\n",
              "        \n",
              "  <svg xmlns=\"http://www.w3.org/2000/svg\" height=\"24px\"viewBox=\"0 0 24 24\"\n",
              "       width=\"24px\">\n",
              "    <path d=\"M0 0h24v24H0V0z\" fill=\"none\"/>\n",
              "    <path d=\"M18.56 5.44l.94 2.06.94-2.06 2.06-.94-2.06-.94-.94-2.06-.94 2.06-2.06.94zm-11 1L8.5 8.5l.94-2.06 2.06-.94-2.06-.94L8.5 2.5l-.94 2.06-2.06.94zm10 10l.94 2.06.94-2.06 2.06-.94-2.06-.94-.94-2.06-.94 2.06-2.06.94z\"/><path d=\"M17.41 7.96l-1.37-1.37c-.4-.4-.92-.59-1.43-.59-.52 0-1.04.2-1.43.59L10.3 9.45l-7.72 7.72c-.78.78-.78 2.05 0 2.83L4 21.41c.39.39.9.59 1.41.59.51 0 1.02-.2 1.41-.59l7.78-7.78 2.81-2.81c.8-.78.8-2.07 0-2.86zM5.41 20L4 18.59l7.72-7.72 1.47 1.35L5.41 20z\"/>\n",
              "  </svg>\n",
              "      </button>\n",
              "      \n",
              "  <style>\n",
              "    .colab-df-container {\n",
              "      display:flex;\n",
              "      flex-wrap:wrap;\n",
              "      gap: 12px;\n",
              "    }\n",
              "\n",
              "    .colab-df-convert {\n",
              "      background-color: #E8F0FE;\n",
              "      border: none;\n",
              "      border-radius: 50%;\n",
              "      cursor: pointer;\n",
              "      display: none;\n",
              "      fill: #1967D2;\n",
              "      height: 32px;\n",
              "      padding: 0 0 0 0;\n",
              "      width: 32px;\n",
              "    }\n",
              "\n",
              "    .colab-df-convert:hover {\n",
              "      background-color: #E2EBFA;\n",
              "      box-shadow: 0px 1px 2px rgba(60, 64, 67, 0.3), 0px 1px 3px 1px rgba(60, 64, 67, 0.15);\n",
              "      fill: #174EA6;\n",
              "    }\n",
              "\n",
              "    [theme=dark] .colab-df-convert {\n",
              "      background-color: #3B4455;\n",
              "      fill: #D2E3FC;\n",
              "    }\n",
              "\n",
              "    [theme=dark] .colab-df-convert:hover {\n",
              "      background-color: #434B5C;\n",
              "      box-shadow: 0px 1px 3px 1px rgba(0, 0, 0, 0.15);\n",
              "      filter: drop-shadow(0px 1px 2px rgba(0, 0, 0, 0.3));\n",
              "      fill: #FFFFFF;\n",
              "    }\n",
              "  </style>\n",
              "\n",
              "      <script>\n",
              "        const buttonEl =\n",
              "          document.querySelector('#df-beb8420e-a00d-44cf-85c8-e71e0e64df1f button.colab-df-convert');\n",
              "        buttonEl.style.display =\n",
              "          google.colab.kernel.accessAllowed ? 'block' : 'none';\n",
              "\n",
              "        async function convertToInteractive(key) {\n",
              "          const element = document.querySelector('#df-beb8420e-a00d-44cf-85c8-e71e0e64df1f');\n",
              "          const dataTable =\n",
              "            await google.colab.kernel.invokeFunction('convertToInteractive',\n",
              "                                                     [key], {});\n",
              "          if (!dataTable) return;\n",
              "\n",
              "          const docLinkHtml = 'Like what you see? Visit the ' +\n",
              "            '<a target=\"_blank\" href=https://colab.research.google.com/notebooks/data_table.ipynb>data table notebook</a>'\n",
              "            + ' to learn more about interactive tables.';\n",
              "          element.innerHTML = '';\n",
              "          dataTable['output_type'] = 'display_data';\n",
              "          await google.colab.output.renderOutput(dataTable, element);\n",
              "          const docLink = document.createElement('div');\n",
              "          docLink.innerHTML = docLinkHtml;\n",
              "          element.appendChild(docLink);\n",
              "        }\n",
              "      </script>\n",
              "    </div>\n",
              "  </div>\n",
              "  "
            ]
          },
          "metadata": {},
          "execution_count": 5
        }
      ],
      "source": [
        "#read training dataset\n",
        "train = pd.read_csv('https://raw.githubusercontent.com/16ejjmm/processed-data-/main/Final_Train.csv')\n",
        "test = pd.read_csv('https://raw.githubusercontent.com/16ejjmm/processed-data-/main/Final_Test.csv')\n",
        "Data = pd.get_dummies(train)\n",
        "X = Data.loc[:, Data.columns != 'PotentialFraud']\n",
        "y = Data['PotentialFraud']\n",
        "holdout_Encoded = pd.get_dummies(test)\n",
        "X.head(5)\n"
      ]
    },
    {
      "cell_type": "code",
      "source": [
        "#Implementing SMOTE\n",
        "# transform the dataset\n",
        "sm = SMOTE(random_state=1)\n",
        "X_sm, y_sm = sm.fit_resample(X, y)\n",
        "\n",
        "print('\\nBalance of positive and negative classes (%):')\n",
        "y_sm.value_counts(normalize=True) * 100"
      ],
      "metadata": {
        "colab": {
          "base_uri": "https://localhost:8080/"
        },
        "id": "YGpkdcV3I004",
        "outputId": "55bcb22d-d98a-4fdc-9227-7d98ddf252f8"
      },
      "execution_count": null,
      "outputs": [
        {
          "output_type": "stream",
          "name": "stdout",
          "text": [
            "\n",
            "Balance of positive and negative classes (%):\n"
          ]
        },
        {
          "output_type": "execute_result",
          "data": {
            "text/plain": [
              "0    50.0\n",
              "1    50.0\n",
              "Name: PotentialFraud, dtype: float64"
            ]
          },
          "metadata": {},
          "execution_count": 6
        }
      ]
    },
    {
      "cell_type": "code",
      "source": [
        "#Instantiate Classifier Model \n",
        "dt = DecisionTreeClassifier(criterion='entropy', max_depth= 6, min_samples_split= 2, random_state=1)"
      ],
      "metadata": {
        "id": "xNZhsuMQTW_P"
      },
      "execution_count": null,
      "outputs": []
    },
    {
      "cell_type": "code",
      "source": [
        "X_train, X_test, y_train, y_test = train_test_split(X_sm, y_sm, test_size=0.2, random_state=1)"
      ],
      "metadata": {
        "id": "FB2soBZ7josF"
      },
      "execution_count": null,
      "outputs": []
    },
    {
      "cell_type": "code",
      "source": [
        "#Grid Search CV\n",
        "max_depth = [3,4,5,6]\n",
        "min_samples_split = [2,3,4,5]\n",
        "criterion = ['entropy', 'gini']\n",
        "scores =  {'f1':'f1', 'AUC': 'roc_auc','percision':'average_precision'}\n",
        "\n",
        "params_dt = {\n",
        "    'max_depth': max_depth, \n",
        "             'min_samples_split': min_samples_split, \n",
        "             'criterion': criterion\n",
        "             }\n",
        "grid_dt = GridSearchCV(estimator=dt, param_grid = params_dt, scoring=scores, cv=10, n_jobs=-1, refit='f1')"
      ],
      "metadata": {
        "id": "zfHnHKwKRMwc"
      },
      "execution_count": null,
      "outputs": []
    },
    {
      "cell_type": "code",
      "source": [
        "#evaluating cross val score\n",
        "cv_acc = cross_val_score(dt, X_train, y_train, cv = 10, scoring = 'accuracy', n_jobs=-1)"
      ],
      "metadata": {
        "id": "czoZ-HsZO8WI"
      },
      "execution_count": null,
      "outputs": []
    },
    {
      "cell_type": "code",
      "source": [
        "#fit model \n",
        "grid_dt.fit(X_train, y_train)\n"
      ],
      "metadata": {
        "id": "O2m3kFN-UsS1"
      },
      "execution_count": null,
      "outputs": []
    },
    {
      "cell_type": "code",
      "source": [
        "#generating test predictions\n",
        "y_pred = grid_dt.predict(X_test)"
      ],
      "metadata": {
        "id": "8BNrywVMYuTl"
      },
      "execution_count": null,
      "outputs": []
    },
    {
      "cell_type": "code",
      "source": [
        "#Accuracy_Score \n",
        "accuracy_score(y_test, y_pred)"
      ],
      "metadata": {
        "colab": {
          "base_uri": "https://localhost:8080/"
        },
        "id": "bIUbYslvottq",
        "outputId": "ee5e772b-9b1f-4736-e646-714b4d986f74"
      },
      "execution_count": null,
      "outputs": [
        {
          "output_type": "execute_result",
          "data": {
            "text/plain": [
              "0.8863404689092762"
            ]
          },
          "metadata": {},
          "execution_count": 27
        }
      ]
    },
    {
      "cell_type": "code",
      "source": [
        "#CV Error accuracy\n",
        "print(cv_qcc)"
      ],
      "metadata": {
        "id": "hU7fX3qZP1IX"
      },
      "execution_count": null,
      "outputs": []
    },
    {
      "cell_type": "code",
      "source": [
        "#confusion Matrix\n",
        "confusion_matrix(y_test, y_pred)"
      ],
      "metadata": {
        "colab": {
          "base_uri": "https://localhost:8080/"
        },
        "id": "ZaLuoyIfpJYL",
        "outputId": "ed098624-7a7e-48e4-d419-13a1eaefac37"
      },
      "execution_count": null,
      "outputs": [
        {
          "output_type": "execute_result",
          "data": {
            "text/plain": [
              "array([[838, 155],\n",
              "       [ 68, 901]])"
            ]
          },
          "metadata": {},
          "execution_count": 28
        }
      ]
    },
    {
      "cell_type": "code",
      "source": [
        "#F1_score\n",
        "f1_score(y_test, y_pred)"
      ],
      "metadata": {
        "colab": {
          "base_uri": "https://localhost:8080/"
        },
        "id": "UbOHEgS5pa_n",
        "outputId": "29c75b75-8c4f-43e8-f8b7-b67bbccc7478"
      },
      "execution_count": null,
      "outputs": [
        {
          "output_type": "execute_result",
          "data": {
            "text/plain": [
              "0.8898765432098765"
            ]
          },
          "metadata": {},
          "execution_count": 37
        }
      ]
    },
    {
      "cell_type": "code",
      "source": [
        "#percision Score\n",
        "precision_score(y_test, y_pred)"
      ],
      "metadata": {
        "colab": {
          "base_uri": "https://localhost:8080/"
        },
        "id": "Uo8AjXHPpj5H",
        "outputId": "7d3947c7-1baa-4e0b-f0e6-f2c83cdaf35f"
      },
      "execution_count": null,
      "outputs": [
        {
          "output_type": "execute_result",
          "data": {
            "text/plain": [
              "0.853219696969697"
            ]
          },
          "metadata": {},
          "execution_count": 30
        }
      ]
    },
    {
      "cell_type": "code",
      "source": [
        "recall_score(y_test, y_pred)"
      ],
      "metadata": {
        "colab": {
          "base_uri": "https://localhost:8080/"
        },
        "id": "KcsIjurv9OiE",
        "outputId": "6829434f-8f39-4a6c-ea54-125bba8d182d"
      },
      "execution_count": null,
      "outputs": [
        {
          "output_type": "execute_result",
          "data": {
            "text/plain": [
              "0.9298245614035088"
            ]
          },
          "metadata": {},
          "execution_count": 31
        }
      ]
    },
    {
      "cell_type": "code",
      "source": [
        "roc_auc_score(y_test, y_pred)"
      ],
      "metadata": {
        "colab": {
          "base_uri": "https://localhost:8080/"
        },
        "id": "AmxKtvt6N5Ih",
        "outputId": "b5738429-0632-4825-c827-8edec8c4a047"
      },
      "execution_count": null,
      "outputs": [
        {
          "output_type": "execute_result",
          "data": {
            "text/plain": [
              "0.8868659564318652"
            ]
          },
          "metadata": {},
          "execution_count": 32
        }
      ]
    },
    {
      "cell_type": "code",
      "source": [
        "# AUC Curve \n",
        "dt_pred_prob = grid_dt.predict_proba(X_test)[:,1]\n",
        "dt_fpr, dt_tpr, bc_thresholds = roc_curve(y_test, dt_pred_prob)\n",
        "plt.plot([0,1],[0,1],'k--')\n",
        "plt.plot(dt_fpr, dt_tpr, label='Decision Tree')\n",
        "plt.xlabel('False Positive Rate')\n",
        "plt.ylabel('True Positive Rate')\n",
        "plt.title('DT ROC Curve')\n",
        "grid_dt_auc = roc_auc_score(y_test, y_pred)\n",
        "plt.show()\n",
        "print(grid_dt_auc)"
      ],
      "metadata": {
        "colab": {
          "base_uri": "https://localhost:8080/",
          "height": 313
        },
        "id": "G2hPDFjdM62B",
        "outputId": "29568c7f-cfa2-4aa1-cdea-024798349fa1"
      },
      "execution_count": null,
      "outputs": [
        {
          "output_type": "display_data",
          "data": {
            "text/plain": [
              "<Figure size 432x288 with 1 Axes>"
            ],
            "image/png": "[encoded data removed]"
          },
          "metadata": {
            "needs_background": "light"
          }
        },
        {
          "output_type": "stream",
          "name": "stdout",
          "text": [
            "0.8868659564318652\n"
          ]
        }
      ]
    },
    {
      "cell_type": "code",
      "source": [
        "best_params = grid_dt.best_params_\n",
        "best_score = grid_dt.best_score_\n",
        "\n",
        "print(best_params)\n",
        "print(best_score)"
      ],
      "metadata": {
        "colab": {
          "base_uri": "https://localhost:8080/"
        },
        "id": "m68jvlg8kt1V",
        "outputId": "4d3b1d03-92cc-4263-feb3-724d6681a4d2"
      },
      "execution_count": null,
      "outputs": [
        {
          "output_type": "stream",
          "name": "stdout",
          "text": [
            "{'criterion': 'entropy', 'max_depth': 6, 'min_samples_split': 2}\n",
            "0.9095443276454255\n"
          ]
        }
      ]
    },
    {
      "cell_type": "code",
      "source": [
        "rep = classification_report(y_test, y_pred)\n",
        "print(rep)"
      ],
      "metadata": {
        "colab": {
          "base_uri": "https://localhost:8080/"
        },
        "id": "XEJ8poOzd-91",
        "outputId": "bb0759c7-7fb3-4829-dab8-c9011779601e"
      },
      "execution_count": null,
      "outputs": [
        {
          "output_type": "stream",
          "name": "stdout",
          "text": [
            "              precision    recall  f1-score   support\n",
            "\n",
            "           0       0.92      0.84      0.88       993\n",
            "           1       0.85      0.93      0.89       969\n",
            "\n",
            "    accuracy                           0.89      1962\n",
            "   macro avg       0.89      0.89      0.89      1962\n",
            "weighted avg       0.89      0.89      0.89      1962\n",
            "\n"
          ]
        }
      ]
    }
  ]
}