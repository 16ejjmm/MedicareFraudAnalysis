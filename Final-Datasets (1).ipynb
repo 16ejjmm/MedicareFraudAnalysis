{
 "cells": [
  {
   "cell_type": "code",
   "execution_count": 2,
   "id": "5d758604",
   "metadata": {},
   "outputs": [],
   "source": [
    "import numpy as np\n",
    "import pandas as pd\n",
    "import seaborn as sns\n",
    "import matplotlib.pyplot as plt\n",
    "from sklearn.model_selection import train_test_split\n",
    "from sklearn import metrics\n",
    "from sklearn import svm"
   ]
  },
  {
   "cell_type": "code",
   "execution_count": 3,
   "id": "f0f502fd",
   "metadata": {},
   "outputs": [],
   "source": [
    "Train = pd.read_csv(r\"/Users/sharlenecordeiro/Desktop/Fraud in Medicare/train.csv\")\n",
    "Train_Beneficiary = pd.read_csv(r\"/Users/sharlenecordeiro/Desktop/Fraud in Medicare/train_bene.csv\")\n",
    "Train_Inpatient = pd.read_csv(r\"/Users/sharlenecordeiro/Desktop/Fraud in Medicare/train_inpatient.csv\")\n",
    "Train_Outpatient = pd.read_csv(r\"/Users/sharlenecordeiro/Desktop/Fraud in Medicare/train_outpatient.csv\")"
   ]
  },
  {
   "cell_type": "code",
   "execution_count": 4,
   "id": "0ff3b7ee",
   "metadata": {},
   "outputs": [],
   "source": [
    "#Load test datasets\n",
    "Test = pd.read_csv(r\"/Users/sharlenecordeiro/Desktop/Fraud in Medicare/test.csv\")\n",
    "Test_Beneficiary = pd.read_csv(r\"/Users/sharlenecordeiro/Desktop/Fraud in Medicare/test_bene.csv\")\n",
    "Test_Inpatient = pd.read_csv(r\"/Users/sharlenecordeiro/Desktop/Fraud in Medicare/test_inpatient.csv\")\n",
    "Test_Outpatient = pd.read_csv(\"/Users/sharlenecordeiro/Desktop/Fraud in Medicare/test_outpatient.csv\")"
   ]
  },
  {
   "cell_type": "code",
   "execution_count": 5,
   "id": "83695c1f",
   "metadata": {},
   "outputs": [],
   "source": [
    "# Replacing 2 with 0 for chronic conditions, Zero indicates chronic condition is No\n",
    "\n",
    "Train_Beneficiary = Train_Beneficiary.replace({'ChronicCond_Alzheimer': 2, 'ChronicCond_Heartfailure': 2, 'ChronicCond_KidneyDisease': 2,\n",
    "                           'ChronicCond_Cancer': 2, 'ChronicCond_ObstrPulmonary': 2, 'ChronicCond_Depression': 2, \n",
    "                           'ChronicCond_Diabetes': 2, 'ChronicCond_IschemicHeart': 2, 'ChronicCond_Osteoporasis': 2, \n",
    "                           'ChronicCond_rheumatoidarthritis': 2, 'ChronicCond_stroke': 2 }, 0)\n",
    "\n",
    "# For RenalDiseaseIndicator replacing 'Y' with 1\n",
    "Train_Beneficiary = Train_Beneficiary.replace({'RenalDiseaseIndicator': 'Y'}, 1)\n",
    "\n",
    "Test_Beneficiary = Test_Beneficiary.replace({'ChronicCond_Alzheimer': 2, 'ChronicCond_Heartfailure': 2, 'ChronicCond_KidneyDisease': 2,\n",
    "                           'ChronicCond_Cancer': 2, 'ChronicCond_ObstrPulmonary': 2, 'ChronicCond_Depression': 2, \n",
    "                           'ChronicCond_Diabetes': 2, 'ChronicCond_IschemicHeart': 2, 'ChronicCond_Osteoporasis': 2, \n",
    "                           'ChronicCond_rheumatoidarthritis': 2, 'ChronicCond_stroke': 2 }, 0)\n",
    "\n",
    "Test_Beneficiary = Test_Beneficiary.replace({'RenalDiseaseIndicator': 'Y'}, 1)"
   ]
  },
  {
   "cell_type": "code",
   "execution_count": 8,
   "id": "ecc3e5ab",
   "metadata": {},
   "outputs": [],
   "source": [
    "# convert all these columns datatypes to numeric\n",
    "Train_Beneficiary[[\"ChronicCond_Alzheimer\", \"ChronicCond_Heartfailure\", \"ChronicCond_KidneyDisease\", \"ChronicCond_Cancer\", \"ChronicCond_ObstrPulmonary\", \"ChronicCond_Depression\", \"ChronicCond_Diabetes\", \"ChronicCond_IschemicHeart\", \"ChronicCond_Osteoporasis\", \"ChronicCond_rheumatoidarthritis\", \"ChronicCond_stroke\", \"RenalDiseaseIndicator\"]] = Train_Beneficiary[[\"ChronicCond_Alzheimer\", \"ChronicCond_Heartfailure\", \"ChronicCond_KidneyDisease\", \"ChronicCond_Cancer\", \"ChronicCond_ObstrPulmonary\", \"ChronicCond_Depression\", \"ChronicCond_Diabetes\", \"ChronicCond_IschemicHeart\", \"ChronicCond_Osteoporasis\", \"ChronicCond_rheumatoidarthritis\", \"ChronicCond_stroke\", \"RenalDiseaseIndicator\"]].apply(pd.to_numeric)\n",
    "\n",
    "Test_Beneficiary[[\"ChronicCond_Alzheimer\", \"ChronicCond_Heartfailure\", \"ChronicCond_KidneyDisease\", \"ChronicCond_Cancer\", \"ChronicCond_ObstrPulmonary\", \"ChronicCond_Depression\", \"ChronicCond_Diabetes\", \"ChronicCond_IschemicHeart\", \"ChronicCond_Osteoporasis\", \"ChronicCond_rheumatoidarthritis\", \"ChronicCond_stroke\", \"RenalDiseaseIndicator\"]] = Test_Beneficiary[[\"ChronicCond_Alzheimer\", \"ChronicCond_Heartfailure\", \"ChronicCond_KidneyDisease\", \"ChronicCond_Cancer\", \"ChronicCond_ObstrPulmonary\", \"ChronicCond_Depression\", \"ChronicCond_Diabetes\", \"ChronicCond_IschemicHeart\", \"ChronicCond_Osteoporasis\", \"ChronicCond_rheumatoidarthritis\", \"ChronicCond_stroke\", \"RenalDiseaseIndicator\"]].apply(pd.to_numeric)"
   ]
  },
  {
   "cell_type": "code",
   "execution_count": 9,
   "id": "fd01bba2",
   "metadata": {},
   "outputs": [],
   "source": [
    "# calculate patient risk score by summing up all the chronic conditions.\n",
    "# The higher risk score indicates the health of the patient is not good\n",
    "\n",
    "Train_Beneficiary['Patient_Risk_Score'] = Train_Beneficiary['ChronicCond_Alzheimer'] + Train_Beneficiary['ChronicCond_Heartfailure'] + \\\n",
    "                                        Train_Beneficiary['ChronicCond_KidneyDisease'] + Train_Beneficiary['ChronicCond_Cancer'] +\\\n",
    "                                        Train_Beneficiary['ChronicCond_ObstrPulmonary'] + Train_Beneficiary['ChronicCond_Depression'] +\\\n",
    "                                    Train_Beneficiary['ChronicCond_Diabetes'] + Train_Beneficiary['ChronicCond_IschemicHeart'] +\\\n",
    "                                    Train_Beneficiary['ChronicCond_Osteoporasis'] + Train_Beneficiary['ChronicCond_rheumatoidarthritis'] +\\\n",
    "                                    Train_Beneficiary['ChronicCond_stroke'] + Train_Beneficiary['RenalDiseaseIndicator'] \n",
    "\n",
    "# calculate patient risk score by summing up all risk scores\n",
    "Test_Beneficiary['Patient_Risk_Score'] = Test_Beneficiary['ChronicCond_Alzheimer'] + Test_Beneficiary['ChronicCond_Heartfailure'] + \\\n",
    "                                        Test_Beneficiary['ChronicCond_KidneyDisease'] + Test_Beneficiary['ChronicCond_Cancer'] +\\\n",
    "                                        Test_Beneficiary['ChronicCond_ObstrPulmonary'] + Test_Beneficiary['ChronicCond_Depression'] +\\\n",
    "                                    Test_Beneficiary['ChronicCond_Diabetes'] + Test_Beneficiary['ChronicCond_IschemicHeart'] +\\\n",
    "                                    Test_Beneficiary['ChronicCond_Osteoporasis'] + Test_Beneficiary['ChronicCond_rheumatoidarthritis'] +\\\n",
    "                                    Test_Beneficiary['ChronicCond_stroke'] + Test_Beneficiary['RenalDiseaseIndicator'] "
   ]
  },
  {
   "cell_type": "code",
   "execution_count": 10,
   "id": "ff82d500",
   "metadata": {},
   "outputs": [],
   "source": [
    "# Replacing '2' with '0' for Gender Type\n",
    "Train_Beneficiary = Train_Beneficiary.replace({'Gender': 2}, 0)\n",
    "\n",
    "Test_Beneficiary = Test_Beneficiary.replace({'Gender': 2}, 0)"
   ]
  },
  {
   "cell_type": "code",
   "execution_count": 11,
   "id": "c8b55af0",
   "metadata": {},
   "outputs": [],
   "source": [
    "# Convert Date of Birth and Date of Death from String to Datetime format\n",
    "Train_Beneficiary['DOB'] = pd.to_datetime(Train_Beneficiary['DOB'] , format = '%Y-%m-%d')\n",
    "Train_Beneficiary['DOD'] = pd.to_datetime(Train_Beneficiary['DOD'],format = '%Y-%m-%d')\n",
    "\n",
    "Test_Beneficiary['DOB'] = pd.to_datetime(Test_Beneficiary['DOB'] , format = '%Y-%m-%d')\n",
    "Test_Beneficiary['DOD'] = pd.to_datetime(Test_Beneficiary['DOD'],format = '%Y-%m-%d')"
   ]
  },
  {
   "cell_type": "code",
   "execution_count": 12,
   "id": "2c264479",
   "metadata": {},
   "outputs": [],
   "source": [
    "# Get the birth month and Birth year for DOB and DOD\n",
    "Train_Beneficiary['Birth_Year'] = Train_Beneficiary['DOB'].dt.year\n",
    "Train_Beneficiary['Birth_Month'] = Train_Beneficiary['DOB'].dt.month\n",
    "\n",
    "Test_Beneficiary['Birth_Year'] = Test_Beneficiary['DOB'].dt.year\n",
    "Test_Beneficiary['Birth_Month'] = Test_Beneficiary['DOB'].dt.month"
   ]
  },
  {
   "cell_type": "code",
   "execution_count": 13,
   "id": "6cdadaa2",
   "metadata": {},
   "outputs": [],
   "source": [
    "Train_Beneficiary['Patient_Age'] = round(((Train_Beneficiary['DOD'] - Train_Beneficiary['DOB']).dt.days)/365)\n",
    "Train_Beneficiary.Patient_Age.fillna(round(((pd.to_datetime('2009-12-01',format ='%Y-%m-%d')-Train_Beneficiary['DOB']).dt.days)/365),inplace=True)\n",
    "\n",
    "Test_Beneficiary['Patient_Age'] = round(((Test_Beneficiary['DOD'] - Test_Beneficiary['DOB']).dt.days)/365)\n",
    "Test_Beneficiary.Patient_Age.fillna(round(((pd.to_datetime('2009-12-01',format ='%Y-%m-%d')-Test_Beneficiary['DOB']).dt.days)/365),inplace=True)"
   ]
  },
  {
   "cell_type": "code",
   "execution_count": 14,
   "id": "150d88fb",
   "metadata": {},
   "outputs": [],
   "source": [
    "# Set value=1 if the patient is dead i.e DOD value is not null\n",
    "Train_Beneficiary['isDead'] = 0\n",
    "Train_Beneficiary.loc[Train_Beneficiary.DOD.notna(), 'isDead'] = 1\n",
    "Test_Beneficiary['isDead'] = 0\n",
    "Test_Beneficiary.loc[Test_Beneficiary.DOD.notna(), 'isDead'] = 1"
   ]
  },
  {
   "cell_type": "code",
   "execution_count": 15,
   "id": "38a36458",
   "metadata": {},
   "outputs": [],
   "source": [
    "# convert ClaimStartDt, ClaimEndDt from string to datetime format\n",
    "Train_Inpatient['ClaimStartDt'] = pd.to_datetime(Train_Inpatient['ClaimStartDt'] , format = '%Y-%m-%d')\n",
    "Train_Inpatient['ClaimEndDt'] = pd.to_datetime(Train_Inpatient['ClaimEndDt'],format = '%Y-%m-%d')\n",
    "\n",
    "Test_Inpatient['ClaimStartDt'] = pd.to_datetime(Test_Inpatient['ClaimStartDt'] , format = '%Y-%m-%d')\n",
    "Test_Inpatient['ClaimEndDt'] = pd.to_datetime(Test_Inpatient['ClaimEndDt'],format = '%Y-%m-%d')\n",
    "\n",
    "# convert AdmissionDt, DischargeDt from string to datetime format\n",
    "Train_Inpatient['AdmissionDt'] = pd.to_datetime(Train_Inpatient['AdmissionDt'] , format = '%Y-%m-%d')\n",
    "Train_Inpatient['DischargeDt'] = pd.to_datetime(Train_Inpatient['DischargeDt'],format = '%Y-%m-%d')\n",
    "\n",
    "Test_Inpatient['AdmissionDt'] = pd.to_datetime(Test_Inpatient['AdmissionDt'] , format = '%Y-%m-%d')\n",
    "Test_Inpatient['DischargeDt'] = pd.to_datetime(Test_Inpatient['DischargeDt'],format = '%Y-%m-%d')"
   ]
  },
  {
   "cell_type": "code",
   "execution_count": 16,
   "id": "0853f7f3",
   "metadata": {},
   "outputs": [],
   "source": [
    "# Calculate Hospitalization_Duration = DischargeDt - AdmissionDt\n",
    "Train_Inpatient['Hospitalization_Duration'] = ((Train_Inpatient['DischargeDt'] - Train_Inpatient['AdmissionDt']).dt.days)+1\n",
    "# Calculate Claim_Period = ClaimEndDt - ClaimStartDt\n",
    "Train_Inpatient['Claim_Period'] = ((Train_Inpatient['ClaimEndDt'] - Train_Inpatient['ClaimStartDt']).dt.days)+1\n",
    "\n",
    "Test_Inpatient['Hospitalization_Duration'] = ((Test_Inpatient['DischargeDt'] - Test_Inpatient['AdmissionDt']).dt.days)+1\n",
    "Test_Inpatient['Claim_Period'] = ((Test_Inpatient['ClaimEndDt'] - Test_Inpatient['ClaimStartDt']).dt.days)+1"
   ]
  },
  {
   "cell_type": "code",
   "execution_count": 17,
   "id": "38bea18b",
   "metadata": {},
   "outputs": [],
   "source": [
    "# ExtraClaimDays = Claim_Period - Hospitalization_Duration\n",
    "Train_Inpatient['ExtraClaimDays'] = np.where(Train_Inpatient['Claim_Period']>Train_Inpatient['Hospitalization_Duration'], Train_Inpatient['Claim_Period'] - Train_Inpatient['Hospitalization_Duration'], 0)\n",
    "Test_Inpatient['ExtraClaimDays'] = np.where(Test_Inpatient['Claim_Period']>Test_Inpatient['Hospitalization_Duration'], Test_Inpatient['Claim_Period'] - Test_Inpatient['Hospitalization_Duration'], 0)"
   ]
  },
  {
   "cell_type": "code",
   "execution_count": 18,
   "id": "6e038c39",
   "metadata": {},
   "outputs": [],
   "source": [
    "# Get the months and year of claim start and claim end\n",
    "Train_Inpatient['ClaimStart_Year'] = Train_Inpatient['ClaimStartDt'].dt.year\n",
    "Train_Inpatient['ClaimStart_Month'] = Train_Inpatient['ClaimStartDt'].dt.month\n",
    "Test_Inpatient['ClaimStart_Year'] = Test_Inpatient['ClaimStartDt'].dt.year\n",
    "Test_Inpatient['ClaimStart_Month'] = Test_Inpatient['ClaimStartDt'].dt.month\n",
    "\n",
    "Train_Inpatient['ClaimEnd_Year'] = Train_Inpatient['ClaimEndDt'].dt.year\n",
    "Train_Inpatient['ClaimEnd_Month'] = Train_Inpatient['ClaimEndDt'].dt.month\n",
    "Test_Inpatient['ClaimEnd_Year'] = Test_Inpatient['ClaimEndDt'].dt.year\n",
    "Test_Inpatient['ClaimEnd_Month'] = Test_Inpatient['ClaimEndDt'].dt.month"
   ]
  },
  {
   "cell_type": "code",
   "execution_count": 19,
   "id": "7e0690ad",
   "metadata": {},
   "outputs": [],
   "source": [
    "# Get the month and year of Admission_Year and Admission_Month\n",
    "Train_Inpatient['Admission_Year'] = Train_Inpatient['AdmissionDt'].dt.year\n",
    "Train_Inpatient['Admission_Month'] = Train_Inpatient['AdmissionDt'].dt.month\n",
    "Test_Inpatient['Admission_Year'] = Test_Inpatient['AdmissionDt'].dt.year\n",
    "Test_Inpatient['Admission_Month'] = Test_Inpatient['AdmissionDt'].dt.month\n",
    "\n",
    "Train_Inpatient['Discharge_Year'] = Train_Inpatient['DischargeDt'].dt.year\n",
    "Train_Inpatient['Discharge_Month'] = Train_Inpatient['DischargeDt'].dt.month\n",
    "Test_Inpatient['Discharge_Year'] = Test_Inpatient['DischargeDt'].dt.year\n",
    "Test_Inpatient['Discharge_Month'] = Test_Inpatient['DischargeDt'].dt.month\n"
   ]
  },
  {
   "cell_type": "code",
   "execution_count": 20,
   "id": "2a879851",
   "metadata": {},
   "outputs": [],
   "source": [
    "# Concat all the claim precedurecodes in a single dataframe\n",
    "ClmProcedureCode_IP_df = pd.DataFrame(columns = ['ProcedureCode'])\n",
    "ClmProcedureCode_IP_df['ProcedureCode'] = pd.concat([Train_Inpatient[\"ClmProcedureCode_1\"], \n",
    "                                   Train_Inpatient[\"ClmProcedureCode_2\"],\n",
    "                                   Train_Inpatient[\"ClmProcedureCode_3\"],\n",
    "                                   Train_Inpatient[\"ClmProcedureCode_4\"], \n",
    "                                   Train_Inpatient[\"ClmProcedureCode_5\"], \n",
    "                                   Train_Inpatient[\"ClmProcedureCode_6\"]], axis=0, sort=True).dropna()"
   ]
  },
  {
   "cell_type": "code",
   "execution_count": 21,
   "id": "c4b92b6e",
   "metadata": {},
   "outputs": [],
   "source": [
    "# Concat all the claim DiagnosisCodes in a single dataframe\n",
    "ClmDiagnosisCode_IP_df = pd.DataFrame(columns = ['DiagnosisCode'])\n",
    "\n",
    "ClmDiagnosisCode_IP_df['DiagnosisCode'] = pd.concat([Train_Inpatient[\"ClmDiagnosisCode_1\"], \n",
    "                                           Train_Inpatient[\"ClmDiagnosisCode_2\"], \n",
    "                                           Train_Inpatient[\"ClmDiagnosisCode_3\"], \n",
    "                                           Train_Inpatient[\"ClmDiagnosisCode_4\"],\n",
    "                                           Train_Inpatient[\"ClmDiagnosisCode_5\"], \n",
    "                                           Train_Inpatient[\"ClmDiagnosisCode_6\"],\n",
    "                                           Train_Inpatient[\"ClmDiagnosisCode_7\"],\n",
    "                                           Train_Inpatient[\"ClmDiagnosisCode_8\"],\n",
    "                                           Train_Inpatient[\"ClmDiagnosisCode_9\"],\n",
    "                                           Train_Inpatient[\"ClmDiagnosisCode_10\"]], axis=0, sort=True).dropna()"
   ]
  },
  {
   "cell_type": "code",
   "execution_count": 22,
   "id": "b2ea86e2",
   "metadata": {},
   "outputs": [],
   "source": [
    "# convert ClaimStartDt, ClaimEndDt from string to datetime format\n",
    "Train_Outpatient['ClaimStartDt'] = pd.to_datetime(Train_Outpatient['ClaimStartDt'] , format = '%Y-%m-%d')\n",
    "Train_Outpatient['ClaimEndDt'] = pd.to_datetime(Train_Outpatient['ClaimEndDt'],format = '%Y-%m-%d')\n",
    "\n",
    "Test_Outpatient['ClaimStartDt'] = pd.to_datetime(Test_Outpatient['ClaimStartDt'] , format = '%Y-%m-%d')\n",
    "Test_Outpatient['ClaimEndDt'] = pd.to_datetime(Test_Outpatient['ClaimEndDt'],format = '%Y-%m-%d')"
   ]
  },
  {
   "cell_type": "code",
   "execution_count": 23,
   "id": "2de45e50",
   "metadata": {},
   "outputs": [],
   "source": [
    "# Get the months and year of claim start and claim end\n",
    "Train_Outpatient['ClaimStart_Year'] = Train_Outpatient['ClaimStartDt'].dt.year\n",
    "Train_Outpatient['ClaimStart_Month'] = Train_Outpatient['ClaimStartDt'].dt.month\n",
    "Test_Outpatient['ClaimStart_Year'] = Test_Outpatient['ClaimStartDt'].dt.year\n",
    "Test_Outpatient['ClaimStart_Month'] = Test_Outpatient['ClaimStartDt'].dt.month\n",
    "\n",
    "Train_Outpatient['ClaimEnd_Year'] = Train_Outpatient['ClaimEndDt'].dt.year\n",
    "Train_Outpatient['ClaimEnd_Month'] = Train_Outpatient['ClaimEndDt'].dt.month\n",
    "Test_Outpatient['ClaimEnd_Year'] = Test_Outpatient['ClaimEndDt'].dt.year\n",
    "Test_Outpatient['ClaimEnd_Month'] = Test_Outpatient['ClaimEndDt'].dt.month"
   ]
  },
  {
   "cell_type": "code",
   "execution_count": 24,
   "id": "bc3237a3",
   "metadata": {},
   "outputs": [],
   "source": [
    "# Calculate Claim_Period = ClaimEndDt - ClaimStartDt\n",
    "Train_Outpatient['Claim_Period'] = ((Train_Outpatient['ClaimEndDt'] - Train_Outpatient['ClaimStartDt']).dt.days)+1\n",
    "\n",
    "Test_Outpatient['Claim_Period'] = ((Test_Outpatient['ClaimEndDt'] - Test_Outpatient['ClaimStartDt']).dt.days)+1"
   ]
  },
  {
   "cell_type": "code",
   "execution_count": 25,
   "id": "a7852683",
   "metadata": {},
   "outputs": [],
   "source": [
    "# Concat all the claim precedurecodes in a single dataframe\n",
    "ClmProcedureCode_OP_df = pd.DataFrame(columns = ['ProcedureCode'])\n",
    "ClmProcedureCode_OP_df['ProcedureCode'] = pd.concat([Train_Outpatient[\"ClmProcedureCode_1\"], \n",
    "                                   Train_Outpatient[\"ClmProcedureCode_2\"],\n",
    "                                   Train_Outpatient[\"ClmProcedureCode_3\"],\n",
    "                                   Train_Outpatient[\"ClmProcedureCode_4\"], \n",
    "                                   Train_Outpatient[\"ClmProcedureCode_5\"], \n",
    "                                   Train_Outpatient[\"ClmProcedureCode_6\"]], axis=0, sort=True).dropna()"
   ]
  },
  {
   "cell_type": "code",
   "execution_count": 26,
   "id": "6198284d",
   "metadata": {},
   "outputs": [],
   "source": [
    "# Concat all the claim DiagnosisCodes in a single dataframe\n",
    "ClmDiagnosisCode_OP_df = pd.DataFrame(columns = ['DiagnosisCode'])\n",
    "\n",
    "ClmDiagnosisCode_OP_df['DiagnosisCode'] = pd.concat([Train_Outpatient[\"ClmDiagnosisCode_1\"], \n",
    "                                           Train_Outpatient[\"ClmDiagnosisCode_2\"], \n",
    "                                           Train_Outpatient[\"ClmDiagnosisCode_3\"], \n",
    "                                           Train_Outpatient[\"ClmDiagnosisCode_4\"],\n",
    "                                           Train_Outpatient[\"ClmDiagnosisCode_5\"], \n",
    "                                           Train_Outpatient[\"ClmDiagnosisCode_6\"],\n",
    "                                           Train_Outpatient[\"ClmDiagnosisCode_7\"],\n",
    "                                           Train_Outpatient[\"ClmDiagnosisCode_8\"],\n",
    "                                           Train_Outpatient[\"ClmDiagnosisCode_9\"],\n",
    "                                           Train_Outpatient[\"ClmDiagnosisCode_10\"]], axis=0, sort=True).dropna()"
   ]
  },
  {
   "cell_type": "code",
   "execution_count": 27,
   "id": "53a3d0a6",
   "metadata": {},
   "outputs": [],
   "source": [
    "# Create a new column Inpatient_or_Outpatient where Inpatient =1 and Outpatient = 0\n",
    "Train_Inpatient['Inpatient_or_Outpatient'] = 1\n",
    "Train_Outpatient['Inpatient_or_Outpatient'] = 0\n",
    "Test_Inpatient['Inpatient_or_Outpatient'] = 1\n",
    "Test_Outpatient['Inpatient_or_Outpatient'] = 0"
   ]
  },
  {
   "cell_type": "code",
   "execution_count": 28,
   "id": "0b94e0fd",
   "metadata": {},
   "outputs": [
    {
     "name": "stdout",
     "output_type": "stream",
     "text": [
      "['BeneID', 'ClaimID', 'ClaimStartDt', 'ClaimEndDt', 'Provider', 'InscClaimAmtReimbursed', 'AttendingPhysician', 'OperatingPhysician', 'OtherPhysician', 'ClmDiagnosisCode_1', 'ClmDiagnosisCode_2', 'ClmDiagnosisCode_3', 'ClmDiagnosisCode_4', 'ClmDiagnosisCode_5', 'ClmDiagnosisCode_6', 'ClmDiagnosisCode_7', 'ClmDiagnosisCode_8', 'ClmDiagnosisCode_9', 'ClmDiagnosisCode_10', 'ClmProcedureCode_1', 'ClmProcedureCode_2', 'ClmProcedureCode_3', 'ClmProcedureCode_4', 'ClmProcedureCode_5', 'ClmProcedureCode_6', 'DeductibleAmtPaid', 'ClmAdmitDiagnosisCode', 'ClaimStart_Year', 'ClaimStart_Month', 'ClaimEnd_Year', 'ClaimEnd_Month', 'Claim_Period', 'Inpatient_or_Outpatient']\n"
     ]
    }
   ],
   "source": [
    "# Merge inpatient and outpatient dataframes based on common columns\n",
    "common_columns = [ idx for idx in Train_Outpatient.columns if idx in Train_Inpatient.columns]\n",
    "print(common_columns)\n",
    "Inpatient_Outpatient_Merge = pd.merge(Train_Inpatient, Train_Outpatient, left_on = common_columns, right_on = common_columns,how = 'outer')\n"
   ]
  },
  {
   "cell_type": "code",
   "execution_count": 29,
   "id": "0e0a88e5",
   "metadata": {},
   "outputs": [],
   "source": [
    "# Merge beneficiary details with inpatient and outpatient data\n",
    "Inpatient_Outpatient_Beneficiary_Merge = pd.merge(Inpatient_Outpatient_Merge, Train_Beneficiary,\n",
    "                                                  left_on='BeneID',right_on='BeneID',how='inner')\n",
    "\n",
    "# Merge provider details\n",
    "Final_Dataset_Train = pd.merge(Inpatient_Outpatient_Beneficiary_Merge, Train , how = 'inner', on = 'Provider' )"
   ]
  },
  {
   "cell_type": "code",
   "execution_count": 30,
   "id": "db692ed4",
   "metadata": {},
   "outputs": [],
   "source": [
    "# Merge inpatient and outpatient dataframes based on common columns\n",
    "\n",
    "common_columns_test = [ idx for idx in Test_Outpatient.columns if idx in Test_Inpatient.columns]\n",
    "Inpatient_Outpatient_Merge_Te = pd.merge(Test_Inpatient, Test_Outpatient, left_on = common_columns_test, right_on = common_columns_test,how = 'outer')\n",
    "\n",
    "# Merge beneficiary details with inpatient and outpatient data\n",
    "Inpatient_Outpatient_Beneficiary_Merge_Te = pd.merge(Inpatient_Outpatient_Merge_Te, Test_Beneficiary,\n",
    "                                                  left_on='BeneID',right_on='BeneID',how='inner')\n",
    "\n",
    "Final_Dataset_Test = pd.merge(Inpatient_Outpatient_Beneficiary_Merge_Te, Test , how = 'inner', on = 'Provider' )"
   ]
  },
  {
   "cell_type": "code",
   "execution_count": 31,
   "id": "d2b2a331",
   "metadata": {},
   "outputs": [],
   "source": [
    "# Concat all the claim precedurecodes in a single dataframe\n",
    "ClmProcedureCode_df = pd.DataFrame(columns = ['ProcedureCode'])\n",
    "ClmProcedureCode_df['ProcedureCode'] = pd.concat([Final_Dataset_Train[\"ClmProcedureCode_1\"], \n",
    "                                   Final_Dataset_Train[\"ClmProcedureCode_2\"],\n",
    "                                   Final_Dataset_Train[\"ClmProcedureCode_3\"],\n",
    "                                   Final_Dataset_Train[\"ClmProcedureCode_4\"], \n",
    "                                   Final_Dataset_Train[\"ClmProcedureCode_5\"], \n",
    "                                   Final_Dataset_Train[\"ClmProcedureCode_6\"]], axis=0, sort=True).dropna()"
   ]
  },
  {
   "cell_type": "code",
   "execution_count": 32,
   "id": "539db8e9",
   "metadata": {},
   "outputs": [],
   "source": [
    "# Concat all the claim DiagnosisCodes in a single dataframe\n",
    "ClmDiagnosisCode_df = pd.DataFrame(columns = ['DiagnosisCode'])\n",
    "\n",
    "ClmDiagnosisCode_df['DiagnosisCode'] = pd.concat([Final_Dataset_Train[\"ClmDiagnosisCode_1\"], \n",
    "                                           Final_Dataset_Train[\"ClmDiagnosisCode_2\"], \n",
    "                                           Final_Dataset_Train[\"ClmDiagnosisCode_3\"], \n",
    "                                           Final_Dataset_Train[\"ClmDiagnosisCode_4\"],\n",
    "                                           Final_Dataset_Train[\"ClmDiagnosisCode_5\"], \n",
    "                                           Final_Dataset_Train[\"ClmDiagnosisCode_6\"],\n",
    "                                           Final_Dataset_Train[\"ClmDiagnosisCode_7\"],\n",
    "                                           Final_Dataset_Train[\"ClmDiagnosisCode_8\"],\n",
    "                                           Final_Dataset_Train[\"ClmDiagnosisCode_9\"],\n",
    "                                           Final_Dataset_Train[\"ClmDiagnosisCode_10\"]], axis=0, sort=True).dropna()"
   ]
  },
  {
   "cell_type": "code",
   "execution_count": 33,
   "id": "7279e1bc",
   "metadata": {},
   "outputs": [],
   "source": [
    "# Separate dataframe with fraud only\n",
    "Final_Dataset_Fraud_Train = Final_Dataset_Train[Final_Dataset_Train.PotentialFraud == 'Yes']\n",
    "ClmProcedureCodeFraud_df = pd.DataFrame(columns = ['ProcedureCode'])\n",
    "ClmProcedureCodeFraud_df['ProcedureCode'] = pd.concat([Final_Dataset_Fraud_Train[\"ClmProcedureCode_1\"], \n",
    "                                   Final_Dataset_Fraud_Train[\"ClmProcedureCode_2\"],\n",
    "                                   Final_Dataset_Fraud_Train[\"ClmProcedureCode_3\"],\n",
    "                                   Final_Dataset_Fraud_Train[\"ClmProcedureCode_4\"], \n",
    "                                   Final_Dataset_Fraud_Train[\"ClmProcedureCode_5\"], \n",
    "                                   Final_Dataset_Fraud_Train[\"ClmProcedureCode_6\"]], axis=0, sort=True).dropna()"
   ]
  },
  {
   "cell_type": "code",
   "execution_count": 34,
   "id": "405c679f",
   "metadata": {},
   "outputs": [],
   "source": [
    "# create new feature total reimbursement amount for inpatient and outpatient\n",
    "Final_Dataset_Train['IP_OP_TotalReimbursementAmt'] = Final_Dataset_Train['IPAnnualReimbursementAmt'] + Final_Dataset_Train['OPAnnualReimbursementAmt']\n",
    "# create new feature total deductible amount for inpatient and outpatient\n",
    "Final_Dataset_Train['IP_OP_AnnualDeductibleAmt'] = Final_Dataset_Train['IPAnnualDeductibleAmt'] + Final_Dataset_Train['OPAnnualDeductibleAmt']\n",
    "\n",
    "Final_Dataset_Test['IP_OP_TotalReimbursementAmt'] = Final_Dataset_Test['IPAnnualReimbursementAmt'] + Final_Dataset_Test['OPAnnualReimbursementAmt']\n",
    "Final_Dataset_Test['IP_OP_AnnualDeductibleAmt'] = Final_Dataset_Test['IPAnnualDeductibleAmt'] + Final_Dataset_Test['OPAnnualDeductibleAmt']"
   ]
  },
  {
   "cell_type": "code",
   "execution_count": 35,
   "id": "2fd8924a",
   "metadata": {},
   "outputs": [],
   "source": [
    "# Missing Values"
   ]
  },
  {
   "cell_type": "code",
   "execution_count": 36,
   "id": "9d8354bc",
   "metadata": {},
   "outputs": [
    {
     "data": {
      "text/plain": [
       "['AttendingPhysician',\n",
       " 'OperatingPhysician',\n",
       " 'OtherPhysician',\n",
       " 'AdmissionDt',\n",
       " 'ClmAdmitDiagnosisCode',\n",
       " 'DeductibleAmtPaid',\n",
       " 'DischargeDt',\n",
       " 'DiagnosisGroupCode',\n",
       " 'ClmDiagnosisCode_1',\n",
       " 'ClmDiagnosisCode_2',\n",
       " 'ClmDiagnosisCode_3',\n",
       " 'ClmDiagnosisCode_4',\n",
       " 'ClmDiagnosisCode_5',\n",
       " 'ClmDiagnosisCode_6',\n",
       " 'ClmDiagnosisCode_7',\n",
       " 'ClmDiagnosisCode_8',\n",
       " 'ClmDiagnosisCode_9',\n",
       " 'ClmDiagnosisCode_10',\n",
       " 'ClmProcedureCode_1',\n",
       " 'ClmProcedureCode_2',\n",
       " 'ClmProcedureCode_3',\n",
       " 'ClmProcedureCode_4',\n",
       " 'ClmProcedureCode_5',\n",
       " 'ClmProcedureCode_6',\n",
       " 'Hospitalization_Duration',\n",
       " 'ExtraClaimDays',\n",
       " 'Admission_Year',\n",
       " 'Admission_Month',\n",
       " 'Discharge_Year',\n",
       " 'Discharge_Month',\n",
       " 'DOD']"
      ]
     },
     "execution_count": 36,
     "metadata": {},
     "output_type": "execute_result"
    }
   ],
   "source": [
    "Final_Dataset_Train.columns[Final_Dataset_Train.isnull().any()].tolist()"
   ]
  },
  {
   "cell_type": "code",
   "execution_count": 37,
   "id": "d8567594",
   "metadata": {},
   "outputs": [],
   "source": [
    "# Fill missing results using 0\n",
    "Final_Dataset_Train = Final_Dataset_Train.fillna(0).copy()\n",
    "Final_Dataset_Test = Final_Dataset_Test.fillna(0).copy()"
   ]
  },
  {
   "cell_type": "code",
   "execution_count": 38,
   "id": "83601b59",
   "metadata": {},
   "outputs": [],
   "source": [
    "def create_feature_using_groupby(Train_df, Test_df, gruopby_col, operation_col,operation):\n",
    "    '''\n",
    "    This function groupby the 'Train_df' and 'Test_df' dataframe by 'gruopby_col' and performs 'operation' on 'operation_col'\n",
    "    '''\n",
    "    \n",
    "    for col in operation_col:\n",
    "        # create new column name for the dataframe\n",
    "        new_col_name = 'Per'+''.join(gruopby_col)+'_'+operation+'_'+col\n",
    "        print(new_col_name)\n",
    "        Train_df[new_col_name] = Train_df.groupby(gruopby_col)[col].transform(operation)\n",
    "        Test_df[new_col_name] = Test_df.groupby(gruopby_col)[col].transform(operation)\n",
    "    return Train_df, Test_df"
   ]
  },
  {
   "cell_type": "code",
   "execution_count": 39,
   "id": "ecfd03dc",
   "metadata": {},
   "outputs": [
    {
     "name": "stdout",
     "output_type": "stream",
     "text": [
      "PerProvider_mean_InscClaimAmtReimbursed\n",
      "PerProvider_mean_DeductibleAmtPaid\n",
      "PerProvider_mean_IPAnnualReimbursementAmt\n",
      "PerProvider_mean_IPAnnualDeductibleAmt\n",
      "PerProvider_mean_OPAnnualReimbursementAmt\n",
      "PerProvider_mean_OPAnnualDeductibleAmt\n",
      "PerProvider_mean_Patient_Age\n",
      "PerProvider_mean_NoOfMonths_PartACov\n",
      "PerProvider_mean_NoOfMonths_PartBCov\n",
      "PerProvider_mean_Hospitalization_Duration\n",
      "PerProvider_mean_Claim_Period\n",
      "PerProvider_mean_Patient_Risk_Score\n"
     ]
    }
   ],
   "source": [
    "columns = ['InscClaimAmtReimbursed', 'DeductibleAmtPaid', 'IPAnnualReimbursementAmt', 'IPAnnualDeductibleAmt', 'OPAnnualReimbursementAmt', 'OPAnnualDeductibleAmt', 'Patient_Age', 'NoOfMonths_PartACov', 'NoOfMonths_PartBCov', 'Hospitalization_Duration', 'Claim_Period', 'Patient_Risk_Score']\n",
    "\n",
    "Final_Dataset_Train,Final_Dataset_Test = create_feature_using_groupby(Final_Dataset_Train, Final_Dataset_Test, ['Provider'], columns, 'mean')"
   ]
  },
  {
   "cell_type": "code",
   "execution_count": 40,
   "id": "46f10699",
   "metadata": {},
   "outputs": [],
   "source": [
    "#Beneficiaries also associated with fraudulent activity. So, group by the dataframe by Beneficiary Id and take mean. If average claim amount is high for a beneficiary then rhis is suspicious."
   ]
  },
  {
   "cell_type": "code",
   "execution_count": 41,
   "id": "d15bb328",
   "metadata": {},
   "outputs": [
    {
     "name": "stdout",
     "output_type": "stream",
     "text": [
      "PerBeneID_mean_InscClaimAmtReimbursed\n",
      "PerBeneID_mean_DeductibleAmtPaid\n",
      "PerBeneID_mean_IPAnnualReimbursementAmt\n",
      "PerBeneID_mean_IPAnnualDeductibleAmt\n",
      "PerBeneID_mean_OPAnnualReimbursementAmt\n",
      "PerBeneID_mean_OPAnnualDeductibleAmt\n",
      "PerBeneID_mean_Patient_Age\n",
      "PerBeneID_mean_Hospitalization_Duration\n",
      "PerBeneID_mean_Claim_Period\n",
      "PerBeneID_mean_Patient_Risk_Score\n"
     ]
    }
   ],
   "source": [
    "columns = ['InscClaimAmtReimbursed', 'DeductibleAmtPaid', 'IPAnnualReimbursementAmt', 'IPAnnualDeductibleAmt', 'OPAnnualReimbursementAmt', 'OPAnnualDeductibleAmt', 'Patient_Age', 'Hospitalization_Duration', 'Claim_Period', 'Patient_Risk_Score']\n",
    "\n",
    "Final_Dataset_Train,Final_Dataset_Test =  create_feature_using_groupby(Final_Dataset_Train, Final_Dataset_Test, ['BeneID'], columns, 'mean')"
   ]
  },
  {
   "cell_type": "code",
   "execution_count": 43,
   "id": "c9bd7cab",
   "metadata": {},
   "outputs": [
    {
     "name": "stdout",
     "output_type": "stream",
     "text": [
      "PerAttendingPhysician_mean_InscClaimAmtReimbursed\n",
      "PerAttendingPhysician_mean_DeductibleAmtPaid\n",
      "PerAttendingPhysician_mean_IPAnnualReimbursementAmt\n",
      "PerAttendingPhysician_mean_IPAnnualDeductibleAmt\n",
      "PerAttendingPhysician_mean_OPAnnualReimbursementAmt\n",
      "PerAttendingPhysician_mean_OPAnnualDeductibleAmt\n",
      "PerAttendingPhysician_mean_Patient_Age\n",
      "PerAttendingPhysician_mean_Hospitalization_Duration\n",
      "PerAttendingPhysician_mean_Claim_Period\n",
      "PerAttendingPhysician_mean_Patient_Risk_Score\n"
     ]
    }
   ],
   "source": [
    "columns = ['InscClaimAmtReimbursed', 'DeductibleAmtPaid', 'IPAnnualReimbursementAmt', 'IPAnnualDeductibleAmt', 'OPAnnualReimbursementAmt', 'OPAnnualDeductibleAmt', 'Patient_Age', 'Hospitalization_Duration', 'Claim_Period', 'Patient_Risk_Score']\n",
    "\n",
    "Final_Dataset_Train,Final_Dataset_Test =  create_feature_using_groupby(Final_Dataset_Train, Final_Dataset_Test, ['AttendingPhysician'], columns, 'mean')\n"
   ]
  },
  {
   "cell_type": "code",
   "execution_count": 45,
   "id": "f8da8ef6",
   "metadata": {},
   "outputs": [
    {
     "name": "stdout",
     "output_type": "stream",
     "text": [
      "PerOperatingPhysician_mean_InscClaimAmtReimbursed\n",
      "PerOperatingPhysician_mean_DeductibleAmtPaid\n",
      "PerOperatingPhysician_mean_IPAnnualReimbursementAmt\n",
      "PerOperatingPhysician_mean_IPAnnualDeductibleAmt\n",
      "PerOperatingPhysician_mean_OPAnnualReimbursementAmt\n",
      "PerOperatingPhysician_mean_OPAnnualDeductibleAmt\n",
      "PerOperatingPhysician_mean_Patient_Age\n",
      "PerOperatingPhysician_mean_Hospitalization_Duration\n",
      "PerOperatingPhysician_mean_Claim_Period\n",
      "PerOperatingPhysician_mean_Patient_Risk_Score\n"
     ]
    }
   ],
   "source": [
    "columns = ['InscClaimAmtReimbursed', 'DeductibleAmtPaid', 'IPAnnualReimbursementAmt', 'IPAnnualDeductibleAmt', 'OPAnnualReimbursementAmt', 'OPAnnualDeductibleAmt', 'Patient_Age', 'Hospitalization_Duration', 'Claim_Period', 'Patient_Risk_Score']\n",
    "\n",
    "Final_Dataset_Train,Final_Dataset_Test =  create_feature_using_groupby(Final_Dataset_Train, Final_Dataset_Test, ['OperatingPhysician'], columns, 'mean')\n"
   ]
  },
  {
   "cell_type": "code",
   "execution_count": 46,
   "id": "778f767c",
   "metadata": {},
   "outputs": [
    {
     "name": "stdout",
     "output_type": "stream",
     "text": [
      "PerOtherPhysician_mean_InscClaimAmtReimbursed\n",
      "PerOtherPhysician_mean_DeductibleAmtPaid\n",
      "PerOtherPhysician_mean_IPAnnualReimbursementAmt\n",
      "PerOtherPhysician_mean_IPAnnualDeductibleAmt\n",
      "PerOtherPhysician_mean_OPAnnualReimbursementAmt\n",
      "PerOtherPhysician_mean_OPAnnualDeductibleAmt\n",
      "PerOtherPhysician_mean_Patient_Age\n",
      "PerOtherPhysician_mean_Hospitalization_Duration\n",
      "PerOtherPhysician_mean_Claim_Period\n",
      "PerOtherPhysician_mean_Patient_Risk_Score\n"
     ]
    }
   ],
   "source": [
    "columns = ['InscClaimAmtReimbursed', 'DeductibleAmtPaid', 'IPAnnualReimbursementAmt', 'IPAnnualDeductibleAmt', 'OPAnnualReimbursementAmt', 'OPAnnualDeductibleAmt', 'Patient_Age', 'Hospitalization_Duration', 'Claim_Period', 'Patient_Risk_Score']\n",
    "\n",
    "Final_Dataset_Train,Final_Dataset_Test =  create_feature_using_groupby(Final_Dataset_Train, Final_Dataset_Test, ['OtherPhysician'], columns, 'mean')"
   ]
  },
  {
   "cell_type": "code",
   "execution_count": 47,
   "id": "af7fdd87",
   "metadata": {},
   "outputs": [
    {
     "name": "stdout",
     "output_type": "stream",
     "text": [
      "PerDiagnosisGroupCode_mean_InscClaimAmtReimbursed\n",
      "PerDiagnosisGroupCode_mean_DeductibleAmtPaid\n",
      "PerDiagnosisGroupCode_mean_IPAnnualReimbursementAmt\n",
      "PerDiagnosisGroupCode_mean_IPAnnualDeductibleAmt\n",
      "PerDiagnosisGroupCode_mean_OPAnnualReimbursementAmt\n",
      "PerDiagnosisGroupCode_mean_OPAnnualDeductibleAmt\n",
      "PerDiagnosisGroupCode_mean_Patient_Age\n",
      "PerDiagnosisGroupCode_mean_Hospitalization_Duration\n",
      "PerDiagnosisGroupCode_mean_Claim_Period\n",
      "PerDiagnosisGroupCode_mean_Patient_Risk_Score\n"
     ]
    }
   ],
   "source": [
    "columns = ['InscClaimAmtReimbursed', 'DeductibleAmtPaid', 'IPAnnualReimbursementAmt', 'IPAnnualDeductibleAmt', 'OPAnnualReimbursementAmt', 'OPAnnualDeductibleAmt', 'Patient_Age', 'Hospitalization_Duration', 'Claim_Period', 'Patient_Risk_Score']\n",
    "\n",
    "Final_Dataset_Train,Final_Dataset_Test =  create_feature_using_groupby(Final_Dataset_Train, Final_Dataset_Test, ['DiagnosisGroupCode'], columns, 'mean')"
   ]
  },
  {
   "cell_type": "code",
   "execution_count": 48,
   "id": "9b16c8e1",
   "metadata": {},
   "outputs": [
    {
     "name": "stdout",
     "output_type": "stream",
     "text": [
      "PerClmAdmitDiagnosisCode_mean_InscClaimAmtReimbursed\n",
      "PerClmAdmitDiagnosisCode_mean_DeductibleAmtPaid\n",
      "PerClmAdmitDiagnosisCode_mean_IPAnnualReimbursementAmt\n",
      "PerClmAdmitDiagnosisCode_mean_IPAnnualDeductibleAmt\n",
      "PerClmAdmitDiagnosisCode_mean_OPAnnualReimbursementAmt\n",
      "PerClmAdmitDiagnosisCode_mean_OPAnnualDeductibleAmt\n",
      "PerClmAdmitDiagnosisCode_mean_Patient_Age\n",
      "PerClmAdmitDiagnosisCode_mean_Hospitalization_Duration\n",
      "PerClmAdmitDiagnosisCode_mean_Claim_Period\n",
      "PerClmAdmitDiagnosisCode_mean_Patient_Risk_Score\n"
     ]
    }
   ],
   "source": [
    "columns = ['InscClaimAmtReimbursed', 'DeductibleAmtPaid', 'IPAnnualReimbursementAmt', 'IPAnnualDeductibleAmt', 'OPAnnualReimbursementAmt', 'OPAnnualDeductibleAmt', 'Patient_Age', 'Hospitalization_Duration', 'Claim_Period', 'Patient_Risk_Score']\n",
    "\n",
    "Final_Dataset_Train,Final_Dataset_Test =  create_feature_using_groupby(Final_Dataset_Train, Final_Dataset_Test, ['ClmAdmitDiagnosisCode'], columns, 'mean')"
   ]
  },
  {
   "cell_type": "code",
   "execution_count": 49,
   "id": "1227d594",
   "metadata": {},
   "outputs": [
    {
     "name": "stdout",
     "output_type": "stream",
     "text": [
      "PerClmProcedureCode_1_mean_InscClaimAmtReimbursed\n",
      "PerClmProcedureCode_1_mean_DeductibleAmtPaid\n",
      "PerClmProcedureCode_1_mean_IPAnnualReimbursementAmt\n",
      "PerClmProcedureCode_1_mean_IPAnnualDeductibleAmt\n",
      "PerClmProcedureCode_1_mean_OPAnnualReimbursementAmt\n",
      "PerClmProcedureCode_1_mean_OPAnnualDeductibleAmt\n",
      "PerClmProcedureCode_1_mean_Patient_Age\n",
      "PerClmProcedureCode_1_mean_Hospitalization_Duration\n",
      "PerClmProcedureCode_1_mean_Claim_Period\n",
      "PerClmProcedureCode_1_mean_Patient_Risk_Score\n"
     ]
    }
   ],
   "source": [
    "columns = ['InscClaimAmtReimbursed', 'DeductibleAmtPaid', 'IPAnnualReimbursementAmt', 'IPAnnualDeductibleAmt', 'OPAnnualReimbursementAmt', 'OPAnnualDeductibleAmt', 'Patient_Age', 'Hospitalization_Duration', 'Claim_Period', 'Patient_Risk_Score']\n",
    "\n",
    "Final_Dataset_Train,Final_Dataset_Test =  create_feature_using_groupby(Final_Dataset_Train, Final_Dataset_Test, ['ClmProcedureCode_1'], columns, 'mean')"
   ]
  },
  {
   "cell_type": "code",
   "execution_count": 50,
   "id": "f513f58c",
   "metadata": {},
   "outputs": [
    {
     "name": "stdout",
     "output_type": "stream",
     "text": [
      "PerClmProcedureCode_2_mean_InscClaimAmtReimbursed\n",
      "PerClmProcedureCode_2_mean_DeductibleAmtPaid\n",
      "PerClmProcedureCode_2_mean_IPAnnualReimbursementAmt\n",
      "PerClmProcedureCode_2_mean_IPAnnualDeductibleAmt\n",
      "PerClmProcedureCode_2_mean_OPAnnualReimbursementAmt\n",
      "PerClmProcedureCode_2_mean_OPAnnualDeductibleAmt\n",
      "PerClmProcedureCode_2_mean_Patient_Age\n",
      "PerClmProcedureCode_2_mean_Hospitalization_Duration\n",
      "PerClmProcedureCode_2_mean_Claim_Period\n",
      "PerClmProcedureCode_2_mean_Patient_Risk_Score\n"
     ]
    }
   ],
   "source": [
    "columns = ['InscClaimAmtReimbursed', 'DeductibleAmtPaid', 'IPAnnualReimbursementAmt', 'IPAnnualDeductibleAmt', 'OPAnnualReimbursementAmt', 'OPAnnualDeductibleAmt', 'Patient_Age', 'Hospitalization_Duration', 'Claim_Period', 'Patient_Risk_Score']\n",
    "\n",
    "Final_Dataset_Train,Final_Dataset_Test =  create_feature_using_groupby(Final_Dataset_Train, Final_Dataset_Test, ['ClmProcedureCode_2'], columns, 'mean')"
   ]
  },
  {
   "cell_type": "code",
   "execution_count": 51,
   "id": "005367e9",
   "metadata": {},
   "outputs": [
    {
     "name": "stdout",
     "output_type": "stream",
     "text": [
      "PerClmProcedureCode_3_mean_InscClaimAmtReimbursed\n",
      "PerClmProcedureCode_3_mean_DeductibleAmtPaid\n",
      "PerClmProcedureCode_3_mean_IPAnnualReimbursementAmt\n",
      "PerClmProcedureCode_3_mean_IPAnnualDeductibleAmt\n",
      "PerClmProcedureCode_3_mean_OPAnnualReimbursementAmt\n",
      "PerClmProcedureCode_3_mean_OPAnnualDeductibleAmt\n",
      "PerClmProcedureCode_3_mean_Patient_Age\n",
      "PerClmProcedureCode_3_mean_Hospitalization_Duration\n",
      "PerClmProcedureCode_3_mean_Claim_Period\n",
      "PerClmProcedureCode_3_mean_Patient_Risk_Score\n"
     ]
    },
    {
     "name": "stderr",
     "output_type": "stream",
     "text": [
      "/var/folders/_2/pj554j0n5wg52_0sqfjdmjcm0000gn/T/ipykernel_54690/3862288337.py:10: PerformanceWarning: DataFrame is highly fragmented.  This is usually the result of calling `frame.insert` many times, which has poor performance.  Consider joining all columns at once using pd.concat(axis=1) instead.  To get a de-fragmented frame, use `newframe = frame.copy()`\n",
      "  Train_df[new_col_name] = Train_df.groupby(gruopby_col)[col].transform(operation)\n",
      "/var/folders/_2/pj554j0n5wg52_0sqfjdmjcm0000gn/T/ipykernel_54690/3862288337.py:11: PerformanceWarning: DataFrame is highly fragmented.  This is usually the result of calling `frame.insert` many times, which has poor performance.  Consider joining all columns at once using pd.concat(axis=1) instead.  To get a de-fragmented frame, use `newframe = frame.copy()`\n",
      "  Test_df[new_col_name] = Test_df.groupby(gruopby_col)[col].transform(operation)\n"
     ]
    }
   ],
   "source": [
    "columns = ['InscClaimAmtReimbursed', 'DeductibleAmtPaid', 'IPAnnualReimbursementAmt', 'IPAnnualDeductibleAmt', 'OPAnnualReimbursementAmt', 'OPAnnualDeductibleAmt', 'Patient_Age', 'Hospitalization_Duration', 'Claim_Period', 'Patient_Risk_Score']\n",
    "\n",
    "Final_Dataset_Train,Final_Dataset_Test =  create_feature_using_groupby(Final_Dataset_Train, Final_Dataset_Test, ['ClmProcedureCode_3'], columns, 'mean')"
   ]
  },
  {
   "cell_type": "code",
   "execution_count": 52,
   "id": "0bc781ef",
   "metadata": {},
   "outputs": [
    {
     "name": "stdout",
     "output_type": "stream",
     "text": [
      "PerClmProcedureCode_4_mean_InscClaimAmtReimbursed\n",
      "PerClmProcedureCode_4_mean_DeductibleAmtPaid\n",
      "PerClmProcedureCode_4_mean_IPAnnualReimbursementAmt\n",
      "PerClmProcedureCode_4_mean_IPAnnualDeductibleAmt\n",
      "PerClmProcedureCode_4_mean_OPAnnualReimbursementAmt\n",
      "PerClmProcedureCode_4_mean_OPAnnualDeductibleAmt\n",
      "PerClmProcedureCode_4_mean_Patient_Age\n",
      "PerClmProcedureCode_4_mean_Hospitalization_Duration\n",
      "PerClmProcedureCode_4_mean_Claim_Period\n",
      "PerClmProcedureCode_4_mean_Patient_Risk_Score\n"
     ]
    },
    {
     "name": "stderr",
     "output_type": "stream",
     "text": [
      "/var/folders/_2/pj554j0n5wg52_0sqfjdmjcm0000gn/T/ipykernel_54690/3862288337.py:10: PerformanceWarning: DataFrame is highly fragmented.  This is usually the result of calling `frame.insert` many times, which has poor performance.  Consider joining all columns at once using pd.concat(axis=1) instead.  To get a de-fragmented frame, use `newframe = frame.copy()`\n",
      "  Train_df[new_col_name] = Train_df.groupby(gruopby_col)[col].transform(operation)\n",
      "/var/folders/_2/pj554j0n5wg52_0sqfjdmjcm0000gn/T/ipykernel_54690/3862288337.py:11: PerformanceWarning: DataFrame is highly fragmented.  This is usually the result of calling `frame.insert` many times, which has poor performance.  Consider joining all columns at once using pd.concat(axis=1) instead.  To get a de-fragmented frame, use `newframe = frame.copy()`\n",
      "  Test_df[new_col_name] = Test_df.groupby(gruopby_col)[col].transform(operation)\n"
     ]
    }
   ],
   "source": [
    "columns = ['InscClaimAmtReimbursed', 'DeductibleAmtPaid', 'IPAnnualReimbursementAmt', 'IPAnnualDeductibleAmt', 'OPAnnualReimbursementAmt', 'OPAnnualDeductibleAmt', 'Patient_Age', 'Hospitalization_Duration', 'Claim_Period', 'Patient_Risk_Score']\n",
    "\n",
    "Final_Dataset_Train,Final_Dataset_Test =  create_feature_using_groupby(Final_Dataset_Train, Final_Dataset_Test, ['ClmProcedureCode_4'], columns, 'mean')"
   ]
  },
  {
   "cell_type": "code",
   "execution_count": 53,
   "id": "ba1c2852",
   "metadata": {},
   "outputs": [
    {
     "name": "stdout",
     "output_type": "stream",
     "text": [
      "PerClmProcedureCode_5_mean_InscClaimAmtReimbursed\n",
      "PerClmProcedureCode_5_mean_DeductibleAmtPaid\n",
      "PerClmProcedureCode_5_mean_IPAnnualReimbursementAmt\n",
      "PerClmProcedureCode_5_mean_IPAnnualDeductibleAmt\n",
      "PerClmProcedureCode_5_mean_OPAnnualReimbursementAmt\n",
      "PerClmProcedureCode_5_mean_OPAnnualDeductibleAmt\n",
      "PerClmProcedureCode_5_mean_Patient_Age\n",
      "PerClmProcedureCode_5_mean_Hospitalization_Duration\n",
      "PerClmProcedureCode_5_mean_Claim_Period\n",
      "PerClmProcedureCode_5_mean_Patient_Risk_Score\n"
     ]
    },
    {
     "name": "stderr",
     "output_type": "stream",
     "text": [
      "/var/folders/_2/pj554j0n5wg52_0sqfjdmjcm0000gn/T/ipykernel_54690/3862288337.py:10: PerformanceWarning: DataFrame is highly fragmented.  This is usually the result of calling `frame.insert` many times, which has poor performance.  Consider joining all columns at once using pd.concat(axis=1) instead.  To get a de-fragmented frame, use `newframe = frame.copy()`\n",
      "  Train_df[new_col_name] = Train_df.groupby(gruopby_col)[col].transform(operation)\n",
      "/var/folders/_2/pj554j0n5wg52_0sqfjdmjcm0000gn/T/ipykernel_54690/3862288337.py:11: PerformanceWarning: DataFrame is highly fragmented.  This is usually the result of calling `frame.insert` many times, which has poor performance.  Consider joining all columns at once using pd.concat(axis=1) instead.  To get a de-fragmented frame, use `newframe = frame.copy()`\n",
      "  Test_df[new_col_name] = Test_df.groupby(gruopby_col)[col].transform(operation)\n"
     ]
    }
   ],
   "source": [
    "columns = ['InscClaimAmtReimbursed', 'DeductibleAmtPaid', 'IPAnnualReimbursementAmt', 'IPAnnualDeductibleAmt', 'OPAnnualReimbursementAmt', 'OPAnnualDeductibleAmt', 'Patient_Age', 'Hospitalization_Duration', 'Claim_Period', 'Patient_Risk_Score']\n",
    "\n",
    "Final_Dataset_Train,Final_Dataset_Test =  create_feature_using_groupby(Final_Dataset_Train, Final_Dataset_Test, ['ClmProcedureCode_5'], columns, 'mean')"
   ]
  },
  {
   "cell_type": "code",
   "execution_count": 55,
   "id": "33a421c6",
   "metadata": {},
   "outputs": [
    {
     "name": "stdout",
     "output_type": "stream",
     "text": [
      "PerClmProcedureCode_6_mean_InscClaimAmtReimbursed\n",
      "PerClmProcedureCode_6_mean_DeductibleAmtPaid\n",
      "PerClmProcedureCode_6_mean_IPAnnualReimbursementAmt\n",
      "PerClmProcedureCode_6_mean_IPAnnualDeductibleAmt\n",
      "PerClmProcedureCode_6_mean_OPAnnualReimbursementAmt\n",
      "PerClmProcedureCode_6_mean_OPAnnualDeductibleAmt\n",
      "PerClmProcedureCode_6_mean_Patient_Age\n",
      "PerClmProcedureCode_6_mean_Hospitalization_Duration\n",
      "PerClmProcedureCode_6_mean_Claim_Period\n",
      "PerClmProcedureCode_6_mean_Patient_Risk_Score\n"
     ]
    },
    {
     "name": "stderr",
     "output_type": "stream",
     "text": [
      "/var/folders/_2/pj554j0n5wg52_0sqfjdmjcm0000gn/T/ipykernel_54690/3862288337.py:10: PerformanceWarning: DataFrame is highly fragmented.  This is usually the result of calling `frame.insert` many times, which has poor performance.  Consider joining all columns at once using pd.concat(axis=1) instead.  To get a de-fragmented frame, use `newframe = frame.copy()`\n",
      "  Train_df[new_col_name] = Train_df.groupby(gruopby_col)[col].transform(operation)\n",
      "/var/folders/_2/pj554j0n5wg52_0sqfjdmjcm0000gn/T/ipykernel_54690/3862288337.py:11: PerformanceWarning: DataFrame is highly fragmented.  This is usually the result of calling `frame.insert` many times, which has poor performance.  Consider joining all columns at once using pd.concat(axis=1) instead.  To get a de-fragmented frame, use `newframe = frame.copy()`\n",
      "  Test_df[new_col_name] = Test_df.groupby(gruopby_col)[col].transform(operation)\n"
     ]
    }
   ],
   "source": [
    "columns = ['InscClaimAmtReimbursed', 'DeductibleAmtPaid', 'IPAnnualReimbursementAmt', 'IPAnnualDeductibleAmt', 'OPAnnualReimbursementAmt', 'OPAnnualDeductibleAmt', 'Patient_Age', 'Hospitalization_Duration', 'Claim_Period', 'Patient_Risk_Score']\n",
    "\n",
    "Final_Dataset_Train,Final_Dataset_Test =  create_feature_using_groupby(Final_Dataset_Train, Final_Dataset_Test, ['ClmProcedureCode_6'], columns, 'mean')"
   ]
  },
  {
   "cell_type": "code",
   "execution_count": 57,
   "id": "a0e4d57b",
   "metadata": {},
   "outputs": [
    {
     "name": "stdout",
     "output_type": "stream",
     "text": [
      "PerClmDiagnosisCode_1_mean_InscClaimAmtReimbursed\n",
      "PerClmDiagnosisCode_1_mean_DeductibleAmtPaid\n",
      "PerClmDiagnosisCode_1_mean_IPAnnualReimbursementAmt\n"
     ]
    },
    {
     "name": "stderr",
     "output_type": "stream",
     "text": [
      "/var/folders/_2/pj554j0n5wg52_0sqfjdmjcm0000gn/T/ipykernel_54690/3862288337.py:10: PerformanceWarning: DataFrame is highly fragmented.  This is usually the result of calling `frame.insert` many times, which has poor performance.  Consider joining all columns at once using pd.concat(axis=1) instead.  To get a de-fragmented frame, use `newframe = frame.copy()`\n",
      "  Train_df[new_col_name] = Train_df.groupby(gruopby_col)[col].transform(operation)\n",
      "/var/folders/_2/pj554j0n5wg52_0sqfjdmjcm0000gn/T/ipykernel_54690/3862288337.py:11: PerformanceWarning: DataFrame is highly fragmented.  This is usually the result of calling `frame.insert` many times, which has poor performance.  Consider joining all columns at once using pd.concat(axis=1) instead.  To get a de-fragmented frame, use `newframe = frame.copy()`\n",
      "  Test_df[new_col_name] = Test_df.groupby(gruopby_col)[col].transform(operation)\n"
     ]
    },
    {
     "name": "stdout",
     "output_type": "stream",
     "text": [
      "PerClmDiagnosisCode_1_mean_IPAnnualDeductibleAmt\n",
      "PerClmDiagnosisCode_1_mean_OPAnnualReimbursementAmt\n",
      "PerClmDiagnosisCode_1_mean_OPAnnualDeductibleAmt\n",
      "PerClmDiagnosisCode_1_mean_Patient_Age\n",
      "PerClmDiagnosisCode_1_mean_Hospitalization_Duration\n",
      "PerClmDiagnosisCode_1_mean_Claim_Period\n",
      "PerClmDiagnosisCode_1_mean_Patient_Risk_Score\n"
     ]
    }
   ],
   "source": [
    "columns = ['InscClaimAmtReimbursed', 'DeductibleAmtPaid', 'IPAnnualReimbursementAmt', 'IPAnnualDeductibleAmt', 'OPAnnualReimbursementAmt', 'OPAnnualDeductibleAmt', 'Patient_Age', 'Hospitalization_Duration', 'Claim_Period', 'Patient_Risk_Score']\n",
    "\n",
    "Final_Dataset_Train,Final_Dataset_Test =  create_feature_using_groupby(Final_Dataset_Train, Final_Dataset_Test, ['ClmDiagnosisCode_1'], columns, 'mean')"
   ]
  },
  {
   "cell_type": "code",
   "execution_count": 58,
   "id": "450de363",
   "metadata": {},
   "outputs": [
    {
     "name": "stdout",
     "output_type": "stream",
     "text": [
      "PerClmDiagnosisCode_2_mean_InscClaimAmtReimbursed\n",
      "PerClmDiagnosisCode_2_mean_DeductibleAmtPaid\n",
      "PerClmDiagnosisCode_2_mean_IPAnnualReimbursementAmt\n",
      "PerClmDiagnosisCode_2_mean_IPAnnualDeductibleAmt\n"
     ]
    },
    {
     "name": "stderr",
     "output_type": "stream",
     "text": [
      "/var/folders/_2/pj554j0n5wg52_0sqfjdmjcm0000gn/T/ipykernel_54690/3862288337.py:10: PerformanceWarning: DataFrame is highly fragmented.  This is usually the result of calling `frame.insert` many times, which has poor performance.  Consider joining all columns at once using pd.concat(axis=1) instead.  To get a de-fragmented frame, use `newframe = frame.copy()`\n",
      "  Train_df[new_col_name] = Train_df.groupby(gruopby_col)[col].transform(operation)\n",
      "/var/folders/_2/pj554j0n5wg52_0sqfjdmjcm0000gn/T/ipykernel_54690/3862288337.py:11: PerformanceWarning: DataFrame is highly fragmented.  This is usually the result of calling `frame.insert` many times, which has poor performance.  Consider joining all columns at once using pd.concat(axis=1) instead.  To get a de-fragmented frame, use `newframe = frame.copy()`\n",
      "  Test_df[new_col_name] = Test_df.groupby(gruopby_col)[col].transform(operation)\n"
     ]
    },
    {
     "name": "stdout",
     "output_type": "stream",
     "text": [
      "PerClmDiagnosisCode_2_mean_OPAnnualReimbursementAmt\n",
      "PerClmDiagnosisCode_2_mean_OPAnnualDeductibleAmt\n",
      "PerClmDiagnosisCode_2_mean_Patient_Age\n",
      "PerClmDiagnosisCode_2_mean_Hospitalization_Duration\n",
      "PerClmDiagnosisCode_2_mean_Claim_Period\n",
      "PerClmDiagnosisCode_2_mean_Patient_Risk_Score\n"
     ]
    }
   ],
   "source": [
    "columns = ['InscClaimAmtReimbursed', 'DeductibleAmtPaid', 'IPAnnualReimbursementAmt', 'IPAnnualDeductibleAmt', 'OPAnnualReimbursementAmt', 'OPAnnualDeductibleAmt', 'Patient_Age', 'Hospitalization_Duration', 'Claim_Period', 'Patient_Risk_Score']\n",
    "\n",
    "Final_Dataset_Train,Final_Dataset_Test =  create_feature_using_groupby(Final_Dataset_Train, Final_Dataset_Test, ['ClmDiagnosisCode_2'], columns, 'mean')\n"
   ]
  },
  {
   "cell_type": "code",
   "execution_count": 59,
   "id": "1a5f66f0",
   "metadata": {},
   "outputs": [
    {
     "name": "stdout",
     "output_type": "stream",
     "text": [
      "PerClmDiagnosisCode_3_mean_InscClaimAmtReimbursed\n",
      "PerClmDiagnosisCode_3_mean_DeductibleAmtPaid\n",
      "PerClmDiagnosisCode_3_mean_IPAnnualReimbursementAmt\n",
      "PerClmDiagnosisCode_3_mean_IPAnnualDeductibleAmt\n"
     ]
    },
    {
     "name": "stderr",
     "output_type": "stream",
     "text": [
      "/var/folders/_2/pj554j0n5wg52_0sqfjdmjcm0000gn/T/ipykernel_54690/3862288337.py:10: PerformanceWarning: DataFrame is highly fragmented.  This is usually the result of calling `frame.insert` many times, which has poor performance.  Consider joining all columns at once using pd.concat(axis=1) instead.  To get a de-fragmented frame, use `newframe = frame.copy()`\n",
      "  Train_df[new_col_name] = Train_df.groupby(gruopby_col)[col].transform(operation)\n",
      "/var/folders/_2/pj554j0n5wg52_0sqfjdmjcm0000gn/T/ipykernel_54690/3862288337.py:11: PerformanceWarning: DataFrame is highly fragmented.  This is usually the result of calling `frame.insert` many times, which has poor performance.  Consider joining all columns at once using pd.concat(axis=1) instead.  To get a de-fragmented frame, use `newframe = frame.copy()`\n",
      "  Test_df[new_col_name] = Test_df.groupby(gruopby_col)[col].transform(operation)\n"
     ]
    },
    {
     "name": "stdout",
     "output_type": "stream",
     "text": [
      "PerClmDiagnosisCode_3_mean_OPAnnualReimbursementAmt\n",
      "PerClmDiagnosisCode_3_mean_OPAnnualDeductibleAmt\n",
      "PerClmDiagnosisCode_3_mean_Patient_Age\n",
      "PerClmDiagnosisCode_3_mean_Hospitalization_Duration\n",
      "PerClmDiagnosisCode_3_mean_Claim_Period\n",
      "PerClmDiagnosisCode_3_mean_Patient_Risk_Score\n"
     ]
    }
   ],
   "source": [
    "columns = ['InscClaimAmtReimbursed', 'DeductibleAmtPaid', 'IPAnnualReimbursementAmt', 'IPAnnualDeductibleAmt', 'OPAnnualReimbursementAmt', 'OPAnnualDeductibleAmt', 'Patient_Age', 'Hospitalization_Duration', 'Claim_Period', 'Patient_Risk_Score']\n",
    "\n",
    "Final_Dataset_Train,Final_Dataset_Test =  create_feature_using_groupby(Final_Dataset_Train, Final_Dataset_Test, ['ClmDiagnosisCode_3'], columns, 'mean')"
   ]
  },
  {
   "cell_type": "code",
   "execution_count": 60,
   "id": "5714f5d4",
   "metadata": {},
   "outputs": [
    {
     "name": "stdout",
     "output_type": "stream",
     "text": [
      "PerClmDiagnosisCode_4_mean_InscClaimAmtReimbursed\n",
      "PerClmDiagnosisCode_4_mean_DeductibleAmtPaid\n",
      "PerClmDiagnosisCode_4_mean_IPAnnualReimbursementAmt\n",
      "PerClmDiagnosisCode_4_mean_IPAnnualDeductibleAmt\n"
     ]
    },
    {
     "name": "stderr",
     "output_type": "stream",
     "text": [
      "/var/folders/_2/pj554j0n5wg52_0sqfjdmjcm0000gn/T/ipykernel_54690/3862288337.py:10: PerformanceWarning: DataFrame is highly fragmented.  This is usually the result of calling `frame.insert` many times, which has poor performance.  Consider joining all columns at once using pd.concat(axis=1) instead.  To get a de-fragmented frame, use `newframe = frame.copy()`\n",
      "  Train_df[new_col_name] = Train_df.groupby(gruopby_col)[col].transform(operation)\n",
      "/var/folders/_2/pj554j0n5wg52_0sqfjdmjcm0000gn/T/ipykernel_54690/3862288337.py:11: PerformanceWarning: DataFrame is highly fragmented.  This is usually the result of calling `frame.insert` many times, which has poor performance.  Consider joining all columns at once using pd.concat(axis=1) instead.  To get a de-fragmented frame, use `newframe = frame.copy()`\n",
      "  Test_df[new_col_name] = Test_df.groupby(gruopby_col)[col].transform(operation)\n"
     ]
    },
    {
     "name": "stdout",
     "output_type": "stream",
     "text": [
      "PerClmDiagnosisCode_4_mean_OPAnnualReimbursementAmt\n",
      "PerClmDiagnosisCode_4_mean_OPAnnualDeductibleAmt\n",
      "PerClmDiagnosisCode_4_mean_Patient_Age\n",
      "PerClmDiagnosisCode_4_mean_Hospitalization_Duration\n",
      "PerClmDiagnosisCode_4_mean_Claim_Period\n",
      "PerClmDiagnosisCode_4_mean_Patient_Risk_Score\n"
     ]
    }
   ],
   "source": [
    "columns = ['InscClaimAmtReimbursed', 'DeductibleAmtPaid', 'IPAnnualReimbursementAmt', 'IPAnnualDeductibleAmt', 'OPAnnualReimbursementAmt', 'OPAnnualDeductibleAmt', 'Patient_Age', 'Hospitalization_Duration', 'Claim_Period', 'Patient_Risk_Score']\n",
    "\n",
    "Final_Dataset_Train,Final_Dataset_Test =  create_feature_using_groupby(Final_Dataset_Train, Final_Dataset_Test, ['ClmDiagnosisCode_4'], columns, 'mean')"
   ]
  },
  {
   "cell_type": "code",
   "execution_count": 61,
   "id": "149cfe5d",
   "metadata": {},
   "outputs": [
    {
     "name": "stdout",
     "output_type": "stream",
     "text": [
      "PerClmDiagnosisCode_5_mean_InscClaimAmtReimbursed\n",
      "PerClmDiagnosisCode_5_mean_DeductibleAmtPaid\n",
      "PerClmDiagnosisCode_5_mean_IPAnnualReimbursementAmt\n",
      "PerClmDiagnosisCode_5_mean_IPAnnualDeductibleAmt\n"
     ]
    },
    {
     "name": "stderr",
     "output_type": "stream",
     "text": [
      "/var/folders/_2/pj554j0n5wg52_0sqfjdmjcm0000gn/T/ipykernel_54690/3862288337.py:10: PerformanceWarning: DataFrame is highly fragmented.  This is usually the result of calling `frame.insert` many times, which has poor performance.  Consider joining all columns at once using pd.concat(axis=1) instead.  To get a de-fragmented frame, use `newframe = frame.copy()`\n",
      "  Train_df[new_col_name] = Train_df.groupby(gruopby_col)[col].transform(operation)\n",
      "/var/folders/_2/pj554j0n5wg52_0sqfjdmjcm0000gn/T/ipykernel_54690/3862288337.py:11: PerformanceWarning: DataFrame is highly fragmented.  This is usually the result of calling `frame.insert` many times, which has poor performance.  Consider joining all columns at once using pd.concat(axis=1) instead.  To get a de-fragmented frame, use `newframe = frame.copy()`\n",
      "  Test_df[new_col_name] = Test_df.groupby(gruopby_col)[col].transform(operation)\n"
     ]
    },
    {
     "name": "stdout",
     "output_type": "stream",
     "text": [
      "PerClmDiagnosisCode_5_mean_OPAnnualReimbursementAmt\n",
      "PerClmDiagnosisCode_5_mean_OPAnnualDeductibleAmt\n",
      "PerClmDiagnosisCode_5_mean_Patient_Age\n",
      "PerClmDiagnosisCode_5_mean_Hospitalization_Duration\n",
      "PerClmDiagnosisCode_5_mean_Claim_Period\n",
      "PerClmDiagnosisCode_5_mean_Patient_Risk_Score\n"
     ]
    }
   ],
   "source": [
    "columns = ['InscClaimAmtReimbursed', 'DeductibleAmtPaid', 'IPAnnualReimbursementAmt', 'IPAnnualDeductibleAmt', 'OPAnnualReimbursementAmt', 'OPAnnualDeductibleAmt', 'Patient_Age', 'Hospitalization_Duration', 'Claim_Period', 'Patient_Risk_Score']\n",
    "\n",
    "Final_Dataset_Train,Final_Dataset_Test =  create_feature_using_groupby(Final_Dataset_Train, Final_Dataset_Test, ['ClmDiagnosisCode_5'], columns,'mean')"
   ]
  },
  {
   "cell_type": "code",
   "execution_count": 62,
   "id": "a4e99760",
   "metadata": {},
   "outputs": [
    {
     "name": "stdout",
     "output_type": "stream",
     "text": [
      "PerClmDiagnosisCode_6_mean_InscClaimAmtReimbursed\n",
      "PerClmDiagnosisCode_6_mean_DeductibleAmtPaid\n",
      "PerClmDiagnosisCode_6_mean_IPAnnualReimbursementAmt\n",
      "PerClmDiagnosisCode_6_mean_IPAnnualDeductibleAmt\n",
      "PerClmDiagnosisCode_6_mean_OPAnnualReimbursementAmt\n"
     ]
    },
    {
     "name": "stderr",
     "output_type": "stream",
     "text": [
      "/var/folders/_2/pj554j0n5wg52_0sqfjdmjcm0000gn/T/ipykernel_54690/3862288337.py:10: PerformanceWarning: DataFrame is highly fragmented.  This is usually the result of calling `frame.insert` many times, which has poor performance.  Consider joining all columns at once using pd.concat(axis=1) instead.  To get a de-fragmented frame, use `newframe = frame.copy()`\n",
      "  Train_df[new_col_name] = Train_df.groupby(gruopby_col)[col].transform(operation)\n",
      "/var/folders/_2/pj554j0n5wg52_0sqfjdmjcm0000gn/T/ipykernel_54690/3862288337.py:11: PerformanceWarning: DataFrame is highly fragmented.  This is usually the result of calling `frame.insert` many times, which has poor performance.  Consider joining all columns at once using pd.concat(axis=1) instead.  To get a de-fragmented frame, use `newframe = frame.copy()`\n",
      "  Test_df[new_col_name] = Test_df.groupby(gruopby_col)[col].transform(operation)\n"
     ]
    },
    {
     "name": "stdout",
     "output_type": "stream",
     "text": [
      "PerClmDiagnosisCode_6_mean_OPAnnualDeductibleAmt\n",
      "PerClmDiagnosisCode_6_mean_Patient_Age\n",
      "PerClmDiagnosisCode_6_mean_Hospitalization_Duration\n",
      "PerClmDiagnosisCode_6_mean_Claim_Period\n",
      "PerClmDiagnosisCode_6_mean_Patient_Risk_Score\n"
     ]
    }
   ],
   "source": [
    "columns = ['InscClaimAmtReimbursed', 'DeductibleAmtPaid', 'IPAnnualReimbursementAmt', 'IPAnnualDeductibleAmt', 'OPAnnualReimbursementAmt', 'OPAnnualDeductibleAmt', 'Patient_Age', 'Hospitalization_Duration', 'Claim_Period', 'Patient_Risk_Score']\n",
    "\n",
    "Final_Dataset_Train,Final_Dataset_Test =  create_feature_using_groupby(Final_Dataset_Train, Final_Dataset_Test, ['ClmDiagnosisCode_6'], columns, 'mean')\n"
   ]
  },
  {
   "cell_type": "code",
   "execution_count": 63,
   "id": "03e1caf1",
   "metadata": {},
   "outputs": [
    {
     "name": "stdout",
     "output_type": "stream",
     "text": [
      "PerProvider_count_ClaimID\n"
     ]
    },
    {
     "name": "stderr",
     "output_type": "stream",
     "text": [
      "/var/folders/_2/pj554j0n5wg52_0sqfjdmjcm0000gn/T/ipykernel_54690/3862288337.py:10: PerformanceWarning: DataFrame is highly fragmented.  This is usually the result of calling `frame.insert` many times, which has poor performance.  Consider joining all columns at once using pd.concat(axis=1) instead.  To get a de-fragmented frame, use `newframe = frame.copy()`\n",
      "  Train_df[new_col_name] = Train_df.groupby(gruopby_col)[col].transform(operation)\n",
      "/var/folders/_2/pj554j0n5wg52_0sqfjdmjcm0000gn/T/ipykernel_54690/3862288337.py:11: PerformanceWarning: DataFrame is highly fragmented.  This is usually the result of calling `frame.insert` many times, which has poor performance.  Consider joining all columns at once using pd.concat(axis=1) instead.  To get a de-fragmented frame, use `newframe = frame.copy()`\n",
      "  Test_df[new_col_name] = Test_df.groupby(gruopby_col)[col].transform(operation)\n"
     ]
    }
   ],
   "source": [
    "# Count the claims per provider\n",
    "Final_Dataset_Train, Final_Dataset_Test =  create_feature_using_groupby(Final_Dataset_Train, Final_Dataset_Test, ['Provider'], ['ClaimID'], 'count')"
   ]
  },
  {
   "cell_type": "code",
   "execution_count": 64,
   "id": "64d0473e",
   "metadata": {},
   "outputs": [
    {
     "name": "stdout",
     "output_type": "stream",
     "text": [
      "PerProviderBeneID_count_ClaimID\n"
     ]
    },
    {
     "name": "stderr",
     "output_type": "stream",
     "text": [
      "/var/folders/_2/pj554j0n5wg52_0sqfjdmjcm0000gn/T/ipykernel_54690/3862288337.py:10: PerformanceWarning: DataFrame is highly fragmented.  This is usually the result of calling `frame.insert` many times, which has poor performance.  Consider joining all columns at once using pd.concat(axis=1) instead.  To get a de-fragmented frame, use `newframe = frame.copy()`\n",
      "  Train_df[new_col_name] = Train_df.groupby(gruopby_col)[col].transform(operation)\n",
      "/var/folders/_2/pj554j0n5wg52_0sqfjdmjcm0000gn/T/ipykernel_54690/3862288337.py:11: PerformanceWarning: DataFrame is highly fragmented.  This is usually the result of calling `frame.insert` many times, which has poor performance.  Consider joining all columns at once using pd.concat(axis=1) instead.  To get a de-fragmented frame, use `newframe = frame.copy()`\n",
      "  Test_df[new_col_name] = Test_df.groupby(gruopby_col)[col].transform(operation)\n"
     ]
    },
    {
     "name": "stdout",
     "output_type": "stream",
     "text": [
      "PerProviderAttendingPhysician_count_ClaimID\n",
      "PerProviderOtherPhysician_count_ClaimID\n",
      "PerProviderOperatingPhysician_count_ClaimID\n",
      "PerProviderClmAdmitDiagnosisCode_count_ClaimID\n",
      "PerProviderClmProcedureCode_1_count_ClaimID\n",
      "PerProviderClmProcedureCode_2_count_ClaimID\n",
      "PerProviderClmProcedureCode_3_count_ClaimID\n",
      "PerProviderClmProcedureCode_4_count_ClaimID\n",
      "PerProviderClmProcedureCode_5_count_ClaimID\n",
      "PerProviderClmDiagnosisCode_1_count_ClaimID\n",
      "PerProviderClmDiagnosisCode_2_count_ClaimID\n",
      "PerProviderClmDiagnosisCode_3_count_ClaimID\n",
      "PerProviderClmDiagnosisCode_4_count_ClaimID\n",
      "PerProviderClmDiagnosisCode_5_count_ClaimID\n",
      "PerProviderClmDiagnosisCode_6_count_ClaimID\n",
      "PerProviderDiagnosisGroupCode_count_ClaimID\n"
     ]
    }
   ],
   "source": [
    "columns = ['ClaimID']\n",
    "grp_by_cols = ['BeneID', 'AttendingPhysician', 'OtherPhysician', 'OperatingPhysician', 'ClmAdmitDiagnosisCode', 'ClmProcedureCode_1',\n",
    "               'ClmProcedureCode_2', 'ClmProcedureCode_3', 'ClmProcedureCode_4', 'ClmProcedureCode_5', 'ClmDiagnosisCode_1', 'ClmDiagnosisCode_2',\n",
    "               'ClmDiagnosisCode_3', 'ClmDiagnosisCode_4', 'ClmDiagnosisCode_5', 'ClmDiagnosisCode_6', 'DiagnosisGroupCode']\n",
    "for ele in grp_by_cols:\n",
    "    lst = ['Provider', ele]\n",
    "    Final_Dataset_Train,Final_Dataset_Test =  create_feature_using_groupby(Final_Dataset_Train, Final_Dataset_Test, lst, columns, 'count')"
   ]
  },
  {
   "cell_type": "markdown",
   "id": "0e4dced6",
   "metadata": {},
   "source": [
    "# Remove the columns which are no longer required"
   ]
  },
  {
   "cell_type": "code",
   "execution_count": 65,
   "id": "96bc63fc",
   "metadata": {},
   "outputs": [],
   "source": [
    "remove_columns=['BeneID', 'ClaimID', 'ClaimStartDt','ClaimEndDt','AttendingPhysician','OperatingPhysician', 'OtherPhysician',\n",
    "                'ClmDiagnosisCode_1','ClmDiagnosisCode_2', 'ClmDiagnosisCode_3', 'ClmDiagnosisCode_4','ClmDiagnosisCode_5',\n",
    "                'ClmDiagnosisCode_6', 'ClmDiagnosisCode_7','ClmDiagnosisCode_8', 'ClmDiagnosisCode_9', 'ClmDiagnosisCode_10',\n",
    "                'ClmProcedureCode_1', 'ClmProcedureCode_2', 'ClmProcedureCode_3','ClmProcedureCode_4', 'ClmProcedureCode_5',\n",
    "                'ClmProcedureCode_6','ClmAdmitDiagnosisCode', 'AdmissionDt','ClaimStart_Year', 'ClaimStart_Year', 'ClaimStart_Month',\n",
    "                'ClaimEnd_Year', 'ClaimEnd_Month', 'Admission_Year', 'Admission_Month', 'Discharge_Year', 'Discharge_Month',\n",
    "                'DischargeDt', 'DiagnosisGroupCode','DOB', 'DOD','Birth_Year', 'Birth_Month','State', 'County']\n",
    "\n",
    "Final_Dataset_Train_FE=Final_Dataset_Train.drop(columns=remove_columns, axis=1)\n",
    "Final_Dataset_Test_FE=Final_Dataset_Test.drop(columns=remove_columns, axis=1)"
   ]
  },
  {
   "cell_type": "code",
   "execution_count": 66,
   "id": "817ea808",
   "metadata": {},
   "outputs": [],
   "source": [
    "# Convert type of Gender and Race to categorical\n",
    "Final_Dataset_Train_FE.Gender=Final_Dataset_Train_FE.Gender.astype('category')\n",
    "Final_Dataset_Test_FE.Gender=Final_Dataset_Test_FE.Gender.astype('category')\n",
    "\n",
    "Final_Dataset_Train_FE.Race=Final_Dataset_Train_FE.Race.astype('category')\n",
    "Final_Dataset_Test_FE.Race=Final_Dataset_Test_FE.Race.astype('category')"
   ]
  },
  {
   "cell_type": "code",
   "execution_count": 67,
   "id": "e6921571",
   "metadata": {},
   "outputs": [],
   "source": [
    "# Do one hot encoding for gender and Race\n",
    "Final_Dataset_Train_FE=pd.get_dummies(Final_Dataset_Train_FE,columns=['Gender','Race'])\n",
    "Final_Dataset_Test_FE=pd.get_dummies(Final_Dataset_Test_FE,columns=['Gender','Race'])"
   ]
  },
  {
   "cell_type": "code",
   "execution_count": 68,
   "id": "f4e5c0cb",
   "metadata": {},
   "outputs": [],
   "source": [
    "Final_Dataset_Provider_Train = Final_Dataset_Train_FE.groupby(['Provider','PotentialFraud'],as_index=False).agg('sum')\n",
    "Final_Dataset_Provider_Test  = Final_Dataset_Test_FE.groupby(['Provider'],as_index=False).agg('sum')"
   ]
  },
  {
   "cell_type": "code",
   "execution_count": 69,
   "id": "3691f465",
   "metadata": {},
   "outputs": [],
   "source": [
    "Final_Dataset_Provider_Train.PotentialFraud.replace(['Yes','No'],['1','0'],inplace=True)\n",
    "Final_Dataset_Provider_Train.PotentialFraud=Final_Dataset_Provider_Train.PotentialFraud.astype('int64')"
   ]
  },
  {
   "cell_type": "code",
   "execution_count": 70,
   "id": "04664342",
   "metadata": {},
   "outputs": [],
   "source": [
    "Final_Dataset_Provider_Train.to_csv('/Users/sharlenecordeiro/Desktop/Final_Train.csv')\n",
    "Final_Dataset_Provider_Test.to_csv('/Users/sharlenecordeiro/Desktop/Final_Test.csv')"
   ]
  },
  {
   "cell_type": "code",
   "execution_count": null,
   "id": "63df5491",
   "metadata": {},
   "outputs": [],
   "source": []
  }
 ],
 "metadata": {
  "kernelspec": {
   "display_name": "Python 3 (ipykernel)",
   "language": "python",
   "name": "python3"
  },
  "language_info": {
   "codemirror_mode": {
    "name": "ipython",
    "version": 3
   },
   "file_extension": ".py",
   "mimetype": "text/x-python",
   "name": "python",
   "nbconvert_exporter": "python",
   "pygments_lexer": "ipython3",
   "version": "3.9.7"
  }
 },
 "nbformat": 4,
 "nbformat_minor": 5
}
